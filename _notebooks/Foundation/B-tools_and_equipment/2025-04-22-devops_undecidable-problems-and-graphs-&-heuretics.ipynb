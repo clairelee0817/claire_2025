{
 "cells": [
  {
   "cell_type": "markdown",
   "id": "f339ddc3",
   "metadata": {},
   "source": [
    "---\n",
    "layout: post\n",
    "title: BI 4 Undecidable Problems and Graphs & Heuretics\n",
    "permalink: /undecidableproblemsandgraphs&heuretics/\n",
    "---"
   ]
  },
  {
   "cell_type": "markdown",
   "id": "4ca5d5d4",
   "metadata": {},
   "source": [
    "# Undecidable Problems\n",
    "## Popcorn Hack 1\n",
    "An algorithm can be used to solve an undecidable problem. (True/**False**) <br>\n",
    "\n",
    "## Popcorn Hack 2\n",
    "If a programmer encounters an undecidable problem, they can just use an algorithm that works most of the time. (**True**/False) <br>\n",
    "\n",
    "## Popcorn Hack 3\n",
    "Which of the following options is not an example of an undecidable problem? <br>\n",
    "A. Halting Problem <br>\n",
    "B. The Collatz Conjecture <br>\n",
    "C. Rice’s Theorem <br>\n",
    "**D. Bubble sorting** <br><br>\n",
    "\n",
    "\n",
    "## Homework Hack 1\n",
    "Investigate and describe how modern operating systems and browsers handle infinite loops or excessively long-running scripts. What mechanisms are in place to detect and mitigate such issues? Provide real-world examples of these mechanisms in action, such as specific error messages, timeouts, or automated recovery processes.\n",
    "\n",
    "**When using Google Chrome browser engines, if a page is taking too long to load and is excessively running long scripts of JavaScript, it can return 'Page Unresponsive' to indicate to the user that the page is taking longer than usual. Then, the user has a choice to keep waiting or to exit out of the page.**\n"
   ]
  },
  {
   "cell_type": "markdown",
   "id": "e78fc575",
   "metadata": {},
   "source": [
    "# Graphs & Heuretics\n",
    "## Popcorn Hack 1\n",
    "**True** or False: In a directed graph, an edge from node A to node B implies that there is always a corresponding edge from node B to node A. <br>\n",
    "\n",
    "## Popcorn Hack 2\n",
    "**True** or False: Heuristics always provide faster solutions than exact algorithms, but they may sacrifice accuracy for speed.\n",
    "\n"
   ]
  }
 ],
 "metadata": {
  "language_info": {
   "name": "python"
  }
 },
 "nbformat": 4,
 "nbformat_minor": 5
}
