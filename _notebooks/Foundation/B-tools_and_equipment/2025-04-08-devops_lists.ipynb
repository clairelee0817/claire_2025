{
 "cells": [
  {
   "cell_type": "markdown",
   "id": "369771a4",
   "metadata": {},
   "source": [
    "---\n",
    "layout: post\n",
    "title: BI 3 Lists and Filtering Algorithms\n",
    "permalink: /listsandfilteringalgorithms/\n",
    "---"
   ]
  },
  {
   "cell_type": "code",
   "execution_count": null,
   "id": "403834a3",
   "metadata": {},
   "outputs": [],
   "source": [
    "### Popcorn Hack #1 \n",
    "fav_movies = [\"Ratatoullie\", \"The Lion King\", \"The Incredibles\", \"Finding Nemo\", \"Toy Story\"]\n",
    "fav_movies[1] = \"The Incredibles 2\"\n",
    "fav_movies.append(\"Inside Out\")\n",
    "print(fav_movies)"
   ]
  },
  {
   "cell_type": "code",
   "execution_count": null,
   "id": "a6d288ad",
   "metadata": {},
   "outputs": [],
   "source": [
    "### Popcorn Hack #2\n",
    "ages = [15, 20, 34, 16, 18, 21, 14, 19]\n",
    "eligible = [num for num in ages if num >= 18]\n",
    "print(eligible)"
   ]
  },
  {
   "cell_type": "markdown",
   "id": "6e3cb7a0",
   "metadata": {},
   "source": [
    "### Homework Hacks "
   ]
  }
 ],
 "metadata": {
  "kernelspec": {
   "display_name": "venv",
   "language": "python",
   "name": "python3"
  },
  "language_info": {
   "codemirror_mode": {
    "name": "ipython",
    "version": 3
   },
   "file_extension": ".py",
   "mimetype": "text/x-python",
   "name": "python",
   "nbconvert_exporter": "python",
   "pygments_lexer": "ipython3",
   "version": "3.12.3"
  }
 },
 "nbformat": 4,
 "nbformat_minor": 5
}
