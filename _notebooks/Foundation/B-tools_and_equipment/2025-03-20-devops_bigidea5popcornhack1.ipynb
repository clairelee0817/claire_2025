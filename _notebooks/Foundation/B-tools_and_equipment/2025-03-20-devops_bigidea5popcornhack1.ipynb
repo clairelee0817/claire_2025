{
 "cells": [
  {
   "cell_type": "markdown",
   "metadata": {},
   "source": [
    "---\n",
    "layout: post\n",
    "title: Big Idea 5 Beneficial and Harmful Effects of Computing \n",
    "permalink: /bigidea5homework/"
   ]
  },
  {
   "cell_type": "markdown",
   "metadata": {},
   "source": [
    "### Beneficial Effects\n",
    "1. Medical Advancements\n",
    "- data is all in one database and is easy to access\n",
    "2. Enhanced Business Efficiency\n",
    "- able to log their data and less margin of human error \n",
    "3. Artistic and Creative Expansion\n",
    "- AI can be used to create art\n",
    "4. Convenience and Efficiency**\n",
    "- example drone: fast delivery service, aerial photography\n",
    "\n",
    "### Harmful Effects\n",
    "1. Cyberbullying\n",
    "- harmful hackers can gain access and utilize personal information\n",
    "2. Dependency\n",
    "- humans relying on computing systems too much can lose critical thinking skills\n",
    "3. Loss of Privacy\n",
    "- celebrities'/famous figures' home lives can be more more compromised with the usage of technology\n",
    "\n",
    "\n",
    "### Self-Driving Cars\n",
    "**Beneficial Effects**\n",
    "- increased safety\n",
    "- traffic efficiency\n",
    "- accessibility \n",
    "- environmental benefits\n",
    "\n",
    "**Harmful Effects**\n",
    "- job displacement (e.g. Uber, Lyft)\n",
    "- security and privacy risks: though the chances are slim, hacking can still happen\n",
    "- ethical and legal challenges: how can accidents involving automated cars be dealt with?\n",
    "- infrastructure and economic costs\n",
    "\n",
    "**Finding Balance**\n",
    "- regulatory measures can be implemented to keep automatic usage in check\n",
    "\n",
    "\n",
    "### Unintended Consequences\n",
    "**Dopamine from Social Media**\n",
    "- beneficial: can provide motivation, reward, learning enhancement\n",
    "- harmful: high expectations online can cause addiction, depression, and other mental health issues"
   ]
  },
  {
   "cell_type": "markdown",
   "metadata": {},
   "source": [
    "## Popcorn Hack #1\n",
    "\n",
    "**How do technological innovations impact society in both positive and negative ways?** <br>\n",
    "Positive:\n",
    "- Data and overall information that would previously be difficult to store with manual effort are now able to be stored.\n",
    "- Important/sensitive information can be better protected with the help of databases, their easy accesibility, and strong security with authentication. <br>\n",
    "\n",
    "Negative:\n",
    "- Since most modern institutions such as hospitals and schools rely on an online computing system, it would be much more comprimising if a hacking incident were to occur, jeopardizing much more data than if manually stored. \n",
    "- Since computing systems such as AI are tasked to assess situations, most likely, it will lack the creativity and unique human collaboration that humans have when assessing situations. "
   ]
  },
  {
   "cell_type": "markdown",
   "metadata": {},
   "source": [
    "## Popcorn Hack #2\n",
    "\n",
    "**What is the meaning of the negative effects of technology and how we can use responsible programming to avoid and reduce these unintended harmful impacts?** <br>\n",
    "Negative effects of technology can be the overwhelming capabilities of computing systems; these systems could possibly take jobs away from people and increase unemployment rates, as well as create human dependency of these systems. To reduce these harmful impacts, there can be a balance between manual and technological strategies within all institutions and establishments that utilize this, only the manual parts can be as last resorts as to not slow down progress. "
   ]
  },
  {
   "cell_type": "markdown",
   "metadata": {},
   "source": [
    "## Popcorn Hack #3 \n",
    "\n",
    "**Why is it important to understand the unintended consequences of technology, especially dopamine-driven technology?** <br>\n",
    "Technology is a very impactful tool that is variously utilized, so it has a very powerful impact. Understanding the unintended consequences of technology that will inevitable rise will help us better tackle and understand the harmful impacts, such as addiction from dopamine-drive technology, as well as better utilize the beneficial impacts. "
   ]
  },
  {
   "cell_type": "markdown",
   "metadata": {},
   "source": [
    "## Homework Hack #1: Revisiting AI Uses\n",
    "\n",
    "**Task: AI is often used in new ways that weren’t planned. Your job is to think of a new way to use an AI invention.**<br>\n",
    "\n"
   ]
  }
 ],
 "metadata": {
  "language_info": {
   "name": "python"
  }
 },
 "nbformat": 4,
 "nbformat_minor": 2
}
