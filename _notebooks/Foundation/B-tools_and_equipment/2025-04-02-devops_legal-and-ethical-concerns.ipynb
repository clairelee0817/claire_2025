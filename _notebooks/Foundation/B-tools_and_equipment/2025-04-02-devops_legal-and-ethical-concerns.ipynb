{
 "cells": [
  {
   "cell_type": "markdown",
   "metadata": {},
   "source": [
    "---\n",
    "layout: post\n",
    "title: BI 5 Legal and Ethical Concerns\n",
    "permalink: /legalandethicalconcerns/\n",
    "---"
   ]
  },
  {
   "cell_type": "markdown",
   "metadata": {},
   "source": [
    "### Popcorn Hack #1\n",
    "\n",
    "**Suppose you buy something that someone made. Give an example of when it is your IP, and when it is not your IP.**\n",
    "- *when it is*: If I were to buy a custom logo / drawing for business-related purposes, then my logo would be my IP.\n",
    "- *when it is not*: If I were to buy a painting, it is still the original painter's IP since the intellectual property rights weren't given to me. "
   ]
  },
  {
   "cell_type": "markdown",
   "metadata": {},
   "source": [
    "### Popcorn Hack #2\n",
    "\n",
    "**As a computer science student, which license suits your repository / site the best and why?**\n",
    "The MIT license would fit our site the best. Our projects are stemmed from educational purposes; more impactful licenses would be needed outside of the classroom, such as corporations launching softwares or artists claiming their legal IP rights. However, as a simple computer science student with the main purpose to observe and learn, an MIT license would be all we need."
   ]
  },
  {
   "cell_type": "markdown",
   "metadata": {},
   "source": [
    "### Explanation\n",
    "\n",
    "My group chose to use the **MIT license**, since we thought it would fit best for our main focus: media retention. Analyzing media is a topic that calls for open source control, and users can use our project as references or for their own use. Though we are focusing on Palomar Health's media presence as of right now, it is not a problem for other users to utilize / modify our project. "
   ]
  }
 ],
 "metadata": {
  "language_info": {
   "name": "python"
  }
 },
 "nbformat": 4,
 "nbformat_minor": 2
}
