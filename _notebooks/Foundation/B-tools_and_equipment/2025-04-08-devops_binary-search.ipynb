{
 "cells": [
  {
   "cell_type": "markdown",
   "id": "5b06f643",
   "metadata": {},
   "source": [
    "---\n",
    "layout: post\n",
    "title: BI 3 Binary Search\n",
    "permalink: /binarysearch/\n",
    "---"
   ]
  },
  {
   "cell_type": "markdown",
   "id": "81f49fa9",
   "metadata": {},
   "source": [
    "## Popcorn Hack #1\n",
    "\n",
    "The procedure BinarySearch(numList, target) correctly implements a binary search algorithm on the list of numbers numList. The procedure returns an index here target occurs in numList, or -1 if target does not occur in numList.<br>\n",
    "\n",
    "Which of the following conditions must be met in order for the procedure to work as intended? Explain why. <br>\n",
    "\n",
    "a. The length of numList must be even <br>\n",
    "b. The list numList must not contain any duplicate values <br>\n",
    "c. The values in numList must be in sorted order <br>\n",
    "d. The value of target must not be equal to -1 <br><br>\n",
    "\n",
    "**My Answer**: C - For all of the other options (even, duplicate, -1), the procedure would not affect how the actually performs its function. To work as intended, sorting the values in numList will allow for the procedure to go through each number and output either target or -1. "
   ]
  },
  {
   "cell_type": "markdown",
   "id": "f20af81a",
   "metadata": {},
   "source": [
    "## Popcorn Hack #2\n",
    "\n",
    "Which of the following statements correctly describes a disadvantage of binary search compared to linear search? Explain why your answer is correct and why the others are wrong.<br>\n",
    "\n",
    "a. Binary search takes more time on average than linear search <br>\n",
    "b. Binary search cannot be used on unsorted lists without modifications <br> \n",
    "c. Binary search always returns the first occurrence of the target <br> \n",
    "d. Binary search can only be used on lists with unique values <br><br> \n",
    "\n",
    "**My Answer**: B - Similarly to the first question, binary search relies on the list its searching to be sorted. The other options (longer time, first occurence return, unique values) are all incorrect. "
   ]
  },
  {
   "cell_type": "markdown",
   "id": "1fba5ad4",
   "metadata": {},
   "source": [
    "### Popcorn Hack #3\n",
    "Given the sorted list: <br>\n",
    "['a', 'b', 'c', 'd', 'e', 'f', 'g']<br>\n",
    "\n",
    "Code a binary search algorithm in your notebook that returns the index when given an element of the array (eg. an input of 'c' should return 2)."
   ]
  },
  {
   "cell_type": "code",
   "execution_count": null,
   "id": "9f423e40",
   "metadata": {},
   "outputs": [
    {
     "name": "stdout",
     "output_type": "stream",
     "text": [
      "Index of 'c': 2\n"
     ]
    }
   ],
   "source": [
    "def binary_search(sorted_list, target):\n",
    "    low = 0\n",
    "    high = len(sorted_list) - 1\n",
    "    \n",
    "    while low <= high:\n",
    "        mid = (low + high) // 2  # Find the middle index\n",
    "        if sorted_list[mid] == target:\n",
    "            return mid  # Return the index if the target is found\n",
    "        elif sorted_list[mid] < target:\n",
    "            low = mid + 1  # Ignore the left half of the list\n",
    "        else:\n",
    "            high = mid - 1  # Ignore the right half of the list\n",
    "    \n",
    "    return -1  # Return -1 if the target is not found\n",
    "\n",
    "# Example of input 'c' \n",
    "sorted_list = ['a', 'b', 'c', 'd', 'e', 'f', 'g']\n",
    "target = 'c'\n",
    "\n",
    "index = binary_search(sorted_list, target)\n",
    "print(f\"Index of '{target}': {index}\")"
   ]
  },
  {
   "cell_type": "code",
   "execution_count": 3,
   "id": "20ce518e",
   "metadata": {},
   "outputs": [
    {
     "name": "stdout",
     "output_type": "stream",
     "text": [
      "Price 1.25 found at index 3.\n",
      "Price 6.49 found at index 12.\n",
      "Price 10.0 not found.\n",
      "\n",
      "First few rows of sorted data:\n",
      "        Product  Price\n",
      "5        Eraser   0.50\n",
      "14  Paper Clips   0.89\n",
      "2        Pencil   0.99\n",
      "9    Glue Stick   1.25\n",
      "1           Pen   1.50\n",
      "\n",
      "Original row count: 15\n",
      "Cleaned row count: 15\n"
     ]
    }
   ],
   "source": [
    "import pandas as pd\n",
    "\n",
    "# Load the dataset\n",
    "data = pd.read_csv(\"school_supplies.csv\")\n",
    "# Drop rows with missing values\n",
    "data_cleaned = data.dropna()\n",
    "# Sort the data by 'Price'\n",
    "data_sorted = data_cleaned.sort_values(by=\"Price\")\n",
    "# Extract sorted prices as a list\n",
    "price_list = data_sorted[\"Price\"].tolist()\n",
    "\n",
    "# Binary search function\n",
    "def binary_search(sorted_list, target):\n",
    "    low = 0\n",
    "    high = len(sorted_list) - 1\n",
    "    \n",
    "    while low <= high:\n",
    "        mid = (low + high) // 2\n",
    "        if sorted_list[mid] == target:\n",
    "            return mid  # Return the index if the target is found\n",
    "        elif sorted_list[mid] < target:\n",
    "            low = mid + 1  # Ignore the left half of the list\n",
    "        else:\n",
    "            high = mid - 1  # Ignore the right half of the list\n",
    "    \n",
    "    return -1  # Return -1 if the target is not found\n",
    "\n",
    "# Prices to search for\n",
    "prices_to_search = [1.25, 6.49, 10.00]\n",
    "\n",
    "for price in prices_to_search:\n",
    "    index = binary_search(price_list, price)\n",
    "    if index != -1:\n",
    "        print(f\"Price {price} found at index {index}.\")\n",
    "    else:\n",
    "        print(f\"Price {price} not found.\")\n",
    "\n",
    "# Preview the sorted data\n",
    "print(\"\\nFirst few rows of sorted data:\")\n",
    "print(data_sorted.head())\n",
    "\n",
    "# Original and cleaned row counts\n",
    "print(\"\\nOriginal row count:\", len(data))\n",
    "print(\"Cleaned row count:\", len(data_cleaned))\n"
   ]
  },
  {
   "cell_type": "markdown",
   "id": "201069fe",
   "metadata": {},
   "source": [
    "### Explanation\n",
    "The binary search function looks for a specific value target in a sorted list. It repeatedly divides the list in half and checks the middle value. If the middle value matches the target, it returns the index; otherwise, it continues searching in the appropriate half of the list until it finds the target or the list is exhausted. If not found, it returns -1."
   ]
  }
 ],
 "metadata": {
  "kernelspec": {
   "display_name": "venv",
   "language": "python",
   "name": "python3"
  },
  "language_info": {
   "codemirror_mode": {
    "name": "ipython",
    "version": 3
   },
   "file_extension": ".py",
   "mimetype": "text/x-python",
   "name": "python",
   "nbconvert_exporter": "python",
   "pygments_lexer": "ipython3",
   "version": "3.12.3"
  }
 },
 "nbformat": 4,
 "nbformat_minor": 5
}
