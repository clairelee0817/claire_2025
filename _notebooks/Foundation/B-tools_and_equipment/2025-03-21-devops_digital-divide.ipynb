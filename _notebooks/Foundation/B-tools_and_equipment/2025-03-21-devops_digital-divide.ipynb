{
 "cells": [
  {
   "cell_type": "markdown",
   "metadata": {},
   "source": [
    "---\n",
    "layout: post\n",
    "title: BI 5 Digital Divide \n",
    "permalink: /digitaldivide/"
   ]
  },
  {
   "cell_type": "markdown",
   "metadata": {},
   "source": [
    "## What is Digital Divide?\n",
    "*Digital divide* gap between individiduals, companies or countries with access to modern info and communication technology and those without.\n",
    "\n",
    "## Factors\n",
    "- wealth/cost of tech; wealthy people have more access to technology than others\n",
    "-limitted access to job opportunities; some digital tasks require digital skills that can be hard to master\n",
    "- unequal access to technology; some schools have more access than others\n",
    "- geographic divsion; rural areas have less access than urban areas\n",
    "\n",
    "## Impact\n",
    "- affects access to jobs, education, healthcare, and economic opportunities\n",
    "- further enhances the socioeconomic divide\n",
    "- hinders progress in fields requiring technology"
   ]
  },
  {
   "cell_type": "markdown",
   "metadata": {},
   "source": [
    "## Popcorn Hack #1: Example Problem in MCQ\n",
    "**Question: Which of the following actions are likely to be helpful in reducing the digital divide? Select two answers.**<br>\n",
    "\n",
    "Options: <br>\n",
    "A. Designing new technologies intended only for advanced users<br>\n",
    "B. Designing new technologies to be accessible to individuals with different physical abilities<br>\n",
    "C. Implementing government regulations restricting citizens’ access to Web content<br>\n",
    "D. Having world governments support the construction of network infrastructure<br>\n",
    "\n",
    "B, D --> Correct"
   ]
  },
  {
   "cell_type": "markdown",
   "metadata": {},
   "source": [
    "## Popcorn Hack #2: How would you attempt to fix the digital divide or prevent it from being as prevalent in our community? What are some things that are already being done? What are some things we can add? Explain.\n",
    "\n",
    "To fix it, communities in less populated places/\"outdated institutions\" (e.g. rural small towns, retirement homes) can be funded and provided resources that can teach people without access to technology skills required to thrive in basic modern society. Some things that have already been done are "
   ]
  },
  {
   "cell_type": "markdown",
   "metadata": {},
   "source": [
    "## Homework Hack"
   ]
  }
 ],
 "metadata": {
  "language_info": {
   "name": "python"
  }
 },
 "nbformat": 4,
 "nbformat_minor": 2
}
