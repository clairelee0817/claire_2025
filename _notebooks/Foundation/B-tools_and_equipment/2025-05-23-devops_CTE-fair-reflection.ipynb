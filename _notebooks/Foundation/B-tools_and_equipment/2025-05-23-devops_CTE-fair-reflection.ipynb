{
 "cells": [
  {
   "cell_type": "markdown",
   "id": "4f2138f1",
   "metadata": {},
   "source": [
    "---\n",
    "layout: post\n",
    "title: CTE Fair Reflection\n",
    "permalink: /ctefair/\n",
    "---"
   ]
  },
  {
   "cell_type": "markdown",
   "id": "e85a4840",
   "metadata": {},
   "source": [
    "I attended the CTE Fair yesterday and I learned many things. Specifically from the OCS booth, I talked to a CSA student who created an RPG game and was able to demo it. I thought it was very interesting how they were able to create this with a good UI and smooth animation. From the other booths, I found a Robotics booth, Biomedical booth, and a Disney film booth the most interesting with their detailed handmade displays and models. Overall, my whole experience at the CTE Fair was very endulging and hope to be able to recommend this to my siblings so that they're able to access these resources. "
   ]
  },
  {
   "cell_type": "markdown",
   "id": "f356a2a1",
   "metadata": {},
   "source": [
    "[See Picture Separately]"
   ]
  }
 ],
 "metadata": {
  "language_info": {
   "name": "python"
  }
 },
 "nbformat": 4,
 "nbformat_minor": 5
}
