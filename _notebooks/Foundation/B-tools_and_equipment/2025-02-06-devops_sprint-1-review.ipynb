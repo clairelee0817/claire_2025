{
 "cells": [
  {
   "cell_type": "markdown",
   "metadata": {},
   "source": [
    "---\n",
    "layout: post\n",
    "title: Sprint 1 Review \n",
    "permalink: /sprint1review/"
   ]
  },
  {
   "cell_type": "markdown",
   "metadata": {},
   "source": [
    "## Initial Goals\n",
    "1. I wanted to be able to be able to create a page with my many personal/general photos in order to make my About page more interesting and unique. <br>\n",
    "2. I thought that I would be able to finish the entire site within two weeks... <br>\n",
    "3. I wanted to make my site colorful and more aesthetically pleasing. <br>"
   ]
  },
  {
   "cell_type": "markdown",
   "metadata": {},
   "source": [
    "## Accomplishments\n",
    "1. I'm still having trouble including my own personal photos, which I think is due to the process of changing the file type from 'heic' to another type. However, I was still able to use online photos well, and included many of them.<br>\n",
    "2. At the time, I did not grasp the reality of the concepts that were given to us, so I underestimated the amount of trouble setting up would be. I did complete a good portion of my site, though.<br>\n",
    "3. I was able to change my site's theme, so now it is much more clean and organized.<br>"
   ]
  },
  {
   "cell_type": "markdown",
   "metadata": {},
   "source": [
    "## Application Advancements\n",
    "\n",
    "**VSCode**\n",
    "1. I created a personal repository and learned how to edit it. It took me awhile to adapt to everything, but Kasm's initial malfunction allowed me to hone my problem-solving skills by ultimately leading me to seek help and watch the steps of fixing and maintaining the fixes. <br>\n",
    "2. Commits and edits were pushed to my website, not just on my local host. This step also took me awhile to figure out as well, but once I got used to it, I could commit anything. There was a setback when I would commit and not separate my steps, resulting in my commits being pulled together into one messy commit. However, I was able to learn from this mistake and group my staged commits better through to the action on my GitHub repository. <br>\n",
    "3. Inside my files with Jupyter Notebooks, I neglected to actually observe the markdown and code that was inside the initial notebooks, as well as the thorough steps to finish my own Notebook. However, I may have complicated the process more than it really was, and I learned that the reason my Notebooks weren't working was that my Jupyter extension needed to be switched to the pre-release version.<br><br>\n",
    "\n",
    "**Github**\n",
    "1. At first, I forked and cloned the wrong repository, and that set back my progress severely. I cloned portfolio_2025 instead of student_2025, and once I fixed this, my work and edits progressed more smoothly. This mistake was due to my lack of knowledge on what was actually going on, but after I fixed this, I had gained more understanding of the anatomy of Sprint 1. <br>\n",
    "2. I accomplished checking the actions pushed from VSCode and made sure that they were no errors and that the commits were deployed smoothly. There was one incident where I a faulty Notebook with faulty code messed up the rest of my commits, but once I got rid of it, my actions were fine. <br>"
   ]
  }
 ],
 "metadata": {
  "language_info": {
   "name": "python"
  }
 },
 "nbformat": 4,
 "nbformat_minor": 2
}
