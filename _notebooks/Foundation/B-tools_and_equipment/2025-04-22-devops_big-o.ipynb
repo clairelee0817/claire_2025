{
 "cells": [
  {
   "cell_type": "markdown",
   "id": "02426a2c",
   "metadata": {},
   "source": [
    "---\n",
    "layout: post\n",
    "title: BI 3 Big O\n",
    "permalink: /bigo/\n",
    "---"
   ]
  },
  {
   "cell_type": "markdown",
   "id": "99a6ec1a",
   "metadata": {},
   "source": [
    "# Popcorn Hacks \n",
    "## Popcorn Hack 1"
   ]
  },
  {
   "cell_type": "code",
   "execution_count": null,
   "id": "d0d5764c",
   "metadata": {},
   "outputs": [
    {
     "name": "stdout",
     "output_type": "stream",
     "text": [
      "3\n"
     ]
    }
   ],
   "source": [
    "# constant time (O(1))\n",
    "arr = [1, 2, 3, 4, 5]\n",
    "print(arr[2])"
   ]
  },
  {
   "cell_type": "code",
   "execution_count": 2,
   "id": "de0b6d37",
   "metadata": {},
   "outputs": [
    {
     "name": "stdout",
     "output_type": "stream",
     "text": [
      "1\n",
      "2\n",
      "3\n",
      "4\n",
      "5\n"
     ]
    }
   ],
   "source": [
    "# linear time (O(n))\n",
    "arr = [1, 2, 3, 4, 5]\n",
    "for num in arr:\n",
    "    print(num)"
   ]
  },
  {
   "cell_type": "markdown",
   "id": "a614b3c0",
   "metadata": {},
   "source": [
    "## Popcorn Hack 2"
   ]
  },
  {
   "cell_type": "code",
   "execution_count": 5,
   "id": "c327e275",
   "metadata": {},
   "outputs": [
    {
     "name": "stdout",
     "output_type": "stream",
     "text": [
      "1 2\n",
      "1 3\n",
      "2 3\n"
     ]
    }
   ],
   "source": [
    "arr = [1, 2, 3]\n",
    "for i in range(len(arr)):\n",
    "    for j in range(i + 1, len(arr)):\n",
    "        print(arr[i], arr[j])"
   ]
  },
  {
   "cell_type": "markdown",
   "id": "1f97850f",
   "metadata": {},
   "source": [
    "*This function is has quadratic time complexity because there are two nested loops, causing the time to grow quadratically as mentioned in the lesson.*"
   ]
  },
  {
   "cell_type": "markdown",
   "id": "615f9d69",
   "metadata": {},
   "source": [
    "## Popcorn Hack 3\n",
    "\n",
    "**Which of these is inefficient for large inputs?** <br>\n",
    "a. Linear Time <br>\n",
    "**b. Factorial Time** <br>\n",
    "c. Constant Time <br>\n",
    "d. Linearithic Time <br><br>\n",
    "\n",
    "**Which of these can be represented by a nested loop?** <br>\n",
    "a. Logarithmic Time <br>\n",
    "b Linearithmic Time <br>\n",
    "**c. Quadratic Time** <br>\n",
    "d. Linear Time <br>"
   ]
  },
  {
   "cell_type": "markdown",
   "id": "88998e56",
   "metadata": {},
   "source": [
    "# Homework Hack"
   ]
  },
  {
   "cell_type": "code",
   "execution_count": null,
   "id": "e7e8d936",
   "metadata": {},
   "outputs": [
    {
     "data": {
      "text/plain": [
       "1"
      ]
     },
     "execution_count": 8,
     "metadata": {},
     "output_type": "execute_result"
    }
   ],
   "source": [
    "arr = [1, 2, 3, 4, 5]\n",
    "\n",
    "def simulate_complexity(arr, complexity):\n",
    "    if complexity == \"constant\":\n",
    "        return arr[0]\n",
    "    \n",
    "    elif complexity == \"linear\":\n",
    "        for item in arr:\n",
    "            print(item)\n",
    "    \n",
    "    elif complexity == \"quadratic\":\n",
    "        for i in arr:\n",
    "            for j in arr:\n",
    "                print(i, j)\n",
    "    \n",
    "    else:\n",
    "        print(\"Unknown complexity type.\")\n",
    "\n",
    "# Uncomment whichever complexity you want to test\n",
    "simulate_complexity(arr, \"constant\")\n",
    "# simulate_complexity(arr, \"linear\")\n",
    "# simulate_complexity(arr, \"quadratic\")"
   ]
  }
 ],
 "metadata": {
  "kernelspec": {
   "display_name": "venv",
   "language": "python",
   "name": "python3"
  },
  "language_info": {
   "codemirror_mode": {
    "name": "ipython",
    "version": 3
   },
   "file_extension": ".py",
   "mimetype": "text/x-python",
   "name": "python",
   "nbconvert_exporter": "python",
   "pygments_lexer": "ipython3",
   "version": "3.12.3"
  }
 },
 "nbformat": 4,
 "nbformat_minor": 5
}
