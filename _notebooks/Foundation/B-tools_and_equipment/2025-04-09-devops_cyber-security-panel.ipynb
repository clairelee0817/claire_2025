{
 "cells": [
  {
   "cell_type": "markdown",
   "id": "b2436654",
   "metadata": {},
   "source": [
    "---\n",
    "layout: post\n",
    "title: Cybersecurity Panel Reflection\n",
    "permalink: /cybersecuritypanel/\n",
    "---"
   ]
  },
  {
   "cell_type": "markdown",
   "id": "ae220a51",
   "metadata": {},
   "source": [
    "### Panelists\n",
    "- David Tomasz: Intelligence Analyst, San Diego Field Office, FBI\n",
    "- Tricia Mercer: Chief People Officer at Indus Technology, Member of Board of Directors at San Diego Cyber Center of Excellence \n",
    "- Victor Nzeata: Adjunct Professor of Cyber Threat Itelligence at USD, Founder/CEO of Cyber Brain Academy "
   ]
  },
  {
   "cell_type": "markdown",
   "id": "a316fa1f",
   "metadata": {},
   "source": [
    "## Lecture Notes\n",
    "\n",
    "### Real-World Example Scenarios \n",
    "- Tomasz was able to track down a globally infamous hacker over the span of three years from a small mistake the hacker had made. He described the feeling of finally capturing the hacker as an amazing accomplishment and sense of pride. \n",
    "- Mercer had an experience with an employee who had taken a leave of absence, but was still online in certain areas of the company,  flagging suspicion. She strategically cut off all of the employee's access and discovered that while her reaction may have been initially seen as \"dramatic\", the employee had actually been sharing company secrets for financial issues. Her discovery led to the arrest and lawsuit against the employee. \n",
    "\n",
    "### Modern Cybersecurity Threats\n",
    "- As an FBI agent for cybersecurity, Tomasz has faced many cases of ransomware, which can lead to data being stolen by others (e.g. China), IP being sold, therefore weakening or possibly making the affected company go under. Ransomware costs the US billions of dollars annually, and Tomasz describes companies' reactions to possible ransomware as the last problem they want. \n",
    "- Nzeata points out the rise of AI and his observance on its capabilities to take some coder's jobs with its presence in many fields. Hackers have also enhanced their ability to infiltrate cybersecurity using AI.\n",
    "- Even the most skilled, experienced employees with constant training can still be subject to phishing attacks. \n",
    "- *Zero Day*: A hacker can potentially infiltrate users who download updates for softwares, such as Microsoft, and intercept them to make them download malicious code. This renders everyone with this update vulnerable to cyberattacks. \n",
    "- Though ethical hackers are essential and a key part in developing and improving cybersecurity, Nzeata describes a case in which he used the help of an ethical hacker, who later implemented a \"back door\" in the software as a means to access it after the official job was done. They caught the hacker and had them arrested. \n",
    "\n",
    "### Career Opportunities\n",
    "- Mercer first studied computers per her mom's advice (though not because she truly wanted to pursue it at first), and later gained an actual desire to want to investigate cybersecurity after annotating a book about a company facing and catching cyber espionage. \n",
    "- Tomasz said he has always hated computers, and only joined because it was related to international affairs in the FBI. He later realized how passionate he was about cybersecurity and how easy it is to pick up once you have the passion to learn for it. He expresses his enjoyment in catching criminals through his job.\n",
    "\n",
    "### Next Steps\n",
    "- IT backgrounds will be a great start for a path down computers, especially for future parallel comparisions with basic knowledge. \n",
    "- People/soft skills are needed no matter which field you go into. Being nice, helpful, reliable and responsible can help you go through life with immense success. Even if you have exceeding technical knowledge, if you're not nice or collaborative, you will not succeed. \n",
    "\n",
    "### Obstacles \n",
    "- Mercer describes how, being in business, convincing business seniors to invet in cybersecurity can be difficult. To transition from a plethora of inside computer language that is used across computer science is not commonly used in the business world is a very difficult process. Essentially, you must convert your purpose to surround the main interest of investors, such as revenue. \n",
    "- Tomasz remarks how he used to be very ignorant and went from having little knowledge to being thrown in an area where you need immense knowledge. However, he says he enjoys these types of environments, and he learned for the better how to use computers well. \n",
    "- Nzeata recollects how when he needed to pick employees to different jobs, it was difficult to convince them to leave their homes and to pursue a dangerous job that they were chosen for their skill. "
   ]
  },
  {
   "cell_type": "markdown",
   "id": "19befc84",
   "metadata": {},
   "source": [
    "## Reflection\n",
    "All of the panelists show a genuine enjoyment and sense of excitement in what they pursue; from the observations that they traveled far to come talk to high school students, they seem to be very eager in sharing their dense computer knowledge. I wish to find a pathway where I'm that happy like them someday, either in the cyberfield or other fields. I look forward to enhancing my computer science knowledge, and hope to either find inspiration in this pathway, such as they did, or to find inspiration in another pathway. "
   ]
  }
 ],
 "metadata": {
  "language_info": {
   "name": "python"
  }
 },
 "nbformat": 4,
 "nbformat_minor": 5
}
