{
 "cells": [
  {
   "cell_type": "markdown",
   "metadata": {},
   "source": [
    "---\n",
    "layout: post\n",
    "title: Sprint 5 Review \n",
    "permalink: /sprint5review/\n",
    "---"
   ]
  },
  {
   "cell_type": "markdown",
   "metadata": {},
   "source": [
    "**Intro Requests for Review**\n",
    "*Program Purpose:* Our program is a social platform for users to globally discover new culinary recipes and restaurants, and share their own opinions/thoughts with restaurant reviews. Tourists from our continents can reference our program to endulge in various restaurants. At-home cooks can explore new recipes to face culinary creative block. Anyone can post a review about a restaurant they wanted to comment about. \n",
    "\n",
    "*Individual Feature Purpose:* The recipe finder for Africa is a feature that users can apply filters based on what kind of recipe they want to find. The code block creates an API url which I tested with Postman to check the JSON data (or recipes). Using mathematical functions, it then generates a random recipe based on the filters the user applies. "
   ]
  },
  {
   "cell_type": "markdown",
   "metadata": {
    "vscode": {
     "languageId": "html"
    }
   },
   "source": [
    "![Image](https://github.com/user-attachments/assets/a40fdcb6-ddb4-448e-8bde-5de2b5285cae)"
   ]
  },
  {
   "cell_type": "code",
   "execution_count": null,
   "metadata": {
    "vscode": {
     "languageId": "javascript"
    }
   },
   "outputs": [],
   "source": [
    "<script>\n",
    "        const API_KEY = 'e956342f5c504b1685b5f81826a61c9b'; // Replace with your Spoonacular API key\n",
    "        const BASE_URL = 'https://api.spoonacular.com/recipes/complexSearch'; // API that we used to connect to the backend\n",
    "        async function getRecipe() {\n",
    "            const country = document.getElementById(\"country\").value;\n",
    "            const type = document.getElementById(\"type\").value;\n",
    "            // Map country and type to search parameters\n",
    "            const cuisine = country; // Assuming Spoonacular supports cuisine as country name\n",
    "            const query = type === 'sweet' ? 'dessert' : 'main course'; // Map 'sweet' to desserts and 'savory' to main courses\n",
    "            // Build the API URL\n",
    "            const url = `${BASE_URL}?apiKey=${API_KEY}&cuisine=${encodeURIComponent(cuisine)}&type=${encodeURIComponent(query)}&number=5`;\n",
    "            try {\n",
    "                // Fetch recipes from the API\n",
    "                const response = await fetch(url);\n",
    "                if (!response.ok) {\n",
    "                    throw new Error(`Error: ${response.status} - ${response.statusText}`);\n",
    "                }\n",
    "                const data = await response.json();\n",
    "                // Get a random recipe from the results\n",
    "                const recipes = data.results;\n",
    "                if (recipes.length === 0) {\n",
    "                    throw new Error('No recipes found for the selected country and type.');\n",
    "                }\n",
    "                const randomRecipe = recipes[Math.floor(Math.random() * recipes.length)];\n",
    "                // Display the recipe\n",
    "                const output = document.getElementById(\"recipeOutput\");\n",
    "                output.innerHTML = `\n",
    "                    <h3>Random Recipe from ${country} (${type}):</h3>\n",
    "                    <p><strong>${randomRecipe.title}</strong></p>\n",
    "                    <img src=\"${randomRecipe.image}\" alt=\"${randomRecipe.title}\" style=\"max-width: 100%; height: auto;\" />\n",
    "                `;\n",
    "            } catch (error) {\n",
    "                // Display error message\n",
    "                const output = document.getElementById(\"recipeOutput\");\n",
    "                output.innerHTML = `<p style=\"color: red;\">${error.message}</p>`;\n",
    "            }\n",
    "        }\n",
    "</script>"
   ]
  },
  {
   "cell_type": "markdown",
   "metadata": {
    "vscode": {
     "languageId": "javascript"
    }
   },
   "source": [
    "<script>\n",
    "        const API_KEY = 'e956342f5c504b1685b5f81826a61c9b'; // Replace with your Spoonacular API key \n",
    "        const BASE_URL = 'https://api.spoonacular.com/recipes/complexSearch'; // API that we used to connect to the backend\n",
    "        async function getRecipe() {\n",
    "            const country = document.getElementById(\"country\").value; // gets country\n",
    "            const type = document.getElementById(\"type\").value; // gets recipe\n",
    "            // Map country and type to search parameters\n",
    "            const cuisine = country; // Assuming Spoonacular supports cuisine as country name\n",
    "            const query = type === 'sweet' ? 'dessert' : 'main course'; // Map 'sweet' to desserts and 'savory' to main courses\n",
    "            // Build the API URL\n",
    "            const url = `${BASE_URL}?apiKey=${API_KEY}&cuisine=${encodeURIComponent(cuisine)}&type=${encodeURIComponent(query)}&number=5`; // example: https://api.spoonacular.com/recipes/complexSearch?apiKey=e956342f5c504b1685b5f81826a61c9b&cuisine=Nigeria&type=dessert&number=5\n",
    "            try {\n",
    "                // Fetch recipes from the API\n",
    "                const response = await fetch(url);\n",
    "                if (!response.ok) {\n",
    "                    throw new Error(`Error: ${response.status} - ${response.statusText}`);\n",
    "                }\n",
    "                const data = await response.json();\n",
    "                // Get a random recipe from the results\n",
    "                const recipes = data.results; // extract data\n",
    "                if (recipes.length === 0) {\n",
    "                    throw new Error('No recipes found for the selected country and type.');\n",
    "                }\n",
    "                const randomRecipe = recipes[Math.floor(Math.random() * recipes.length)];\n",
    "                // Display the recipe\n",
    "                const output = document.getElementById(\"recipeOutput\");\n",
    "                output.innerHTML = `\n",
    "                    <h3>Random Recipe from ${country} (${type}):</h3>\n",
    "                    <p><strong>${randomRecipe.title}</strong></p>\n",
    "                    <img src=\"${randomRecipe.image}\" alt=\"${randomRecipe.title}\" style=\"max-width: 100%; height: auto;\" />\n",
    "                `;\n",
    "            } catch (error) {\n",
    "                // Display error message\n",
    "                const output = document.getElementById(\"recipeOutput\");\n",
    "                output.innerHTML = `<p style=\"color: red;\">${error.message}</p>`;\n",
    "            }\n",
    "        }\n",
    "\n",
    "</script>"
   ]
  },
  {
   "cell_type": "markdown",
   "metadata": {},
   "source": [
    "**Input/Output Requests**\n",
    "Our post feature for Reviews demonstrates an API request and response, where a user submits their post which sends a request towards the backend, to which the post will be displayed below. \n",
    "When we use Postman, to test RESTful APIs, we can GET in an API url into a request, such as http://127.0.0.1:8887/api/restaurant, and while running main.py, Postman will display the information for each location underneath the restaurant class. \n",
    " The db_init.py file allows for our database tables to be updated and created. We have been using this to see how our changes to the any channel or group ids we've tweaked. The db_backup.py file is what we use to save tester tables. The db_restore.py file recreates our database after we delete it so that any static data is still there. \n"
   ]
  },
  {
   "cell_type": "markdown",
   "metadata": {},
   "source": [
    "**List Requests**\n",
    "To convert JSON data of our names, ages, and roles within Sprint 5, we used API urls so that when main.py runs and the user logs in, they can see our names. \n",
    "An example of Python lists we use are also the About the Team page, when this process is done, there are rows that appear underneath the table, underneath the columns of our name, age, and role.\n",
    "Each member of the team has a defined class which appears as individual columns, which is displayed in our website.\n",
    "Use of lists and dictionaries, in our website, we have a dictionary of all of the informations of our team members. This also uses iteration method because it loops the information of everyone and displays it on the frontend. "
   ]
  },
  {
   "cell_type": "markdown",
   "metadata": {},
   "source": [
    "**Algorhythmic Code Requests**\n",
    "The About the Team page also displays an example of specifying CRUD. The frontend request code specifies which method of CRUD needed, which lets the API url become fetched and shows up on our table.\n",
    "This process is an example of iteration due to its use of for loops that return information for every member.\n",
    "This demonstrates our body of the request is within the backend, showing up as JSON data to the frontend."
   ]
  },
  {
   "cell_type": "markdown",
   "metadata": {},
   "source": [
    "**Call to Algorithm Request**\n",
    "The call request method to algorithm is what we did in a previous review with different countries as our endpoints. We inserted a breakpoint within the api file, to which the request was pending. \n",
    "After the breakpoint was removed, the endpoint was fetched, and the static data within the endpoint was returned.\n",
    "When changing static data, the result changes are that the endpoints will fetch the changed data that we have added. If the wrong method is specified, however, the endpoint will not go through and the data will not be fetched. When main.py is not running either, requests for APIs cannot be made."
   ]
  }
 ],
 "metadata": {
  "kernelspec": {
   "display_name": "venv",
   "language": "python",
   "name": "python3"
  },
  "language_info": {
   "codemirror_mode": {
    "name": "ipython",
    "version": 3
   },
   "file_extension": ".py",
   "mimetype": "text/x-python",
   "name": "python",
   "nbconvert_exporter": "python",
   "pygments_lexer": "ipython3",
   "version": "3.12.3"
  }
 },
 "nbformat": 4,
 "nbformat_minor": 2
}
