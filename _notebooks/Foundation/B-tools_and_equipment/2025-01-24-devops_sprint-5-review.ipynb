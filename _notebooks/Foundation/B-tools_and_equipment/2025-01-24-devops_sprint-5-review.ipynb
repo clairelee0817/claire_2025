{
 "cells": [
  {
   "cell_type": "markdown",
   "metadata": {},
   "source": [
    "---\n",
    "layout: post\n",
    "title: Sprint 5 Review \n",
    "permalink: /sprint5review/\n",
    "---"
   ]
  },
  {
   "cell_type": "markdown",
   "metadata": {},
   "source": [
    "## Intro Requests for Review\n",
    "\n",
    "**Program Purpose:** \n",
    "Our program is a social platform for users to globally discover new culinary recipes and restaurants, and share their own opinions/thoughts with restaurant reviews. Tourists from our continents can reference our program to endulge in various restaurants. At-home cooks can explore new recipes to face culinary creative block. Anyone can post a review about a restaurant they wanted to comment about. \n",
    "\n",
    "**Individual Feature Purpose:**\n",
    "Africa's reviews section fetches user data and the culinaryposts channel from the backend. Then the data is stored in our backend database, to which it the channel data is displayed on the page. "
   ]
  },
  {
   "cell_type": "code",
   "execution_count": null,
   "metadata": {
    "vscode": {
     "languageId": "javascript"
    }
   },
   "outputs": [],
   "source": [
    "<script type=\"module\">\n",
    "    import { pythonURI, fetchOptions } from '../assets/js/api/config.js';\n",
    "    const container = document.getElementById(\"culinaryposts\");\n",
    "\n",
    "    async function fetchUser() {\n",
    "        const response = await fetch(`${pythonURI}/api/user`, fetchOptions);\n",
    "        const user = await response.json();\n",
    "        console.log(user);\n",
    "        return user;\n",
    "    }\n",
    "\n",
    "    const user = fetchUser();\n",
    "\n",
    "    async function fetchChannels() {\n",
    "        try {\n",
    "            const groupName = 'Culinary Posts';\n",
    "            const responseData = {\n",
    "                group_name: groupName,\n",
    "            };\n",
    "            // add filter to get only messages from this channel\n",
    "            const response = await fetch(`${pythonURI}/api/channels/filter`, {\n",
    "                ...fetchOptions,\n",
    "                method: 'POST',\n",
    "                headers: {\n",
    "                    'Content-Type': 'application/json'\n",
    "                },\n",
    "                body: JSON.stringify(responseData)\n",
    "            });\n",
    "\n",
    "            if (!response.ok) {\n",
    "                throw new Error('Failed to fetch channels: ' + response.statusText);\n",
    "            }\n",
    "            const channels = await response.json();\n",
    "            container.innerHTML = \"\";\n",
    "\n",
    "            channels.forEach(channel => {\n",
    "                const card = document.createElement(\"div\");\n",
    "                card.classList.add(\"card\");\n",
    "\n",
    "                const title = document.createElement(\"h3\");\n",
    "                title.classList.add(\"card-title\");\n",
    "                title.textContent = channel.name;\n",
    "\n",
    "                const description = document.createElement(\"p\");\n",
    "                description.classList.add(\"card-description\");\n",
    "                description.textContent = channel.attributes[\"content\"];\n",
    "\n",
    "                card.appendChild(title);\n",
    "                card.appendChild(description);\n",
    "\n",
    "                container.appendChild(card);\n",
    "            });\n",
    "        } catch (error) {\n",
    "            console.error('Error fetching channels:', error);\n",
    "        }\n",
    "    }\n",
    "\n",
    "    document.getElementById('channelForm').addEventListener('submit', async function(event) {\n",
    "        event.preventDefault();\n",
    "\n",
    "        const title = document.getElementById('title').value;\n",
    "        const content = document.getElementById('textArea').value;\n",
    "        const group_id = 13;\n",
    "\n",
    "        const channelData = {\n",
    "            name: title,\n",
    "            group_id: group_id,\n",
    "            attributes: {\"content\": content}\n",
    "        };\n",
    "\n",
    "        try {\n",
    "            const response = await fetch(`${pythonURI}/api/channel`, {\n",
    "                ...fetchOptions,\n",
    "                method: 'POST',\n",
    "                headers: {\n",
    "                    'Content-Type': 'application/json'\n",
    "                },\n",
    "                body: JSON.stringify(channelData)\n",
    "            });\n",
    "\n",
    "            if (!response.ok) {\n",
    "                throw new Error('Failed to add channel: ' + response.statusText);\n",
    "            }\n",
    "\n",
    "            fetchChannels();\n",
    "            document.getElementById('channelForm').reset();\n",
    "        } catch (error) {\n",
    "            console.error('Error adding channel:', error);\n",
    "            alert('Error adding channel: ' + error.message);\n",
    "        }\n",
    "    });\n",
    "\n",
    "    fetchChannels();\n",
    "</script>"
   ]
  },
  {
   "cell_type": "markdown",
   "metadata": {},
   "source": [
    "This is what the user sees after the channel data is displayed.<br>\n",
    "![Image](https://github.com/user-attachments/assets/f04d4edf-3556-40c5-91a9-7d11d7b5da46)"
   ]
  },
  {
   "cell_type": "markdown",
   "metadata": {},
   "source": [
    "The data appears in the database and is stored within channels.<br>\n",
    "![Image](https://github.com/user-attachments/assets/83acb8db-3fe7-4cc1-8c61-0ef5e0bb4b77)"
   ]
  },
  {
   "cell_type": "markdown",
   "metadata": {},
   "source": [
    "## Input/Output Requests \n",
    "Demo ways to Input to your full stack feature."
   ]
  },
  {
   "cell_type": "markdown",
   "metadata": {},
   "source": [
    "- Using frontend show  API request and  present API response. (live demo) <br>\n",
    "<img width=\"905\" alt=\"Image\" src=\"https://github.com/user-attachments/assets/b543a261-61fb-4416-8822-b89155e5880d\" />"
   ]
  },
  {
   "cell_type": "markdown",
   "metadata": {},
   "source": [
    "- Using postman to show raw API request and RESTful response (error code(s) and JSON) <br>\n",
    "<img width=\"915\" alt=\"Image\" src=\"https://github.com/user-attachments/assets/64d22dc5-024f-46cb-b89b-6963bd830ed8\" /> <br> <img width=\"490\" alt=\"Image\" src=\"https://github.com/user-attachments/assets/65008af0-bbcf-41f1-8bbb-7ba4691e8a05\" /> <br>  <img width=\"473\" alt=\"Image\" src=\"https://github.com/user-attachments/assets/1b3cfb4d-197b-49ff-855f-3e479fd49c83\" />"
   ]
  },
  {
   "cell_type": "markdown",
   "metadata": {},
   "source": [
    "- Using db_init, db_restore, db_backup to show tester data creation and data recovery. <br>\n",
    "<img width=\"745\" alt=\"Image\" src=\"https://github.com/user-attachments/assets/f0e0110c-dc79-4a01-84c4-ba29a1945a80\" /> <br> <img width=\"731\" alt=\"Image\" src=\"https://github.com/user-attachments/assets/367146db-2717-4b1a-8797-4e7ad6d042b6\" />"
   ]
  },
  {
   "cell_type": "markdown",
   "metadata": {
    "vscode": {
     "languageId": "javascript"
    }
   },
   "source": [
    "## List Requests  \n",
    "Use of list, dictionaries and database.  Code descriptions of area where you work with list (rows) and dictionaries (columns) of the database."
   ]
  },
  {
   "cell_type": "markdown",
   "metadata": {},
   "source": [
    "<img width=\"725\" alt=\"Image\" src=\"https://github.com/user-attachments/assets/e07f65e3-0944-4962-9ce9-7f57ae225aba\" /><br>"
   ]
  },
  {
   "cell_type": "markdown",
   "metadata": {},
   "source": [
    "- Discuss formatting response data (JSON) from API into DOM <br>\n",
    "<img width=\"413\" alt=\"Image\" src=\"https://github.com/user-attachments/assets/6fc8ec4a-0d22-4eaf-a035-a38c94bf17a4\" /> <br>\n",
    "\n",
    "frontend: DOM <br> \n",
    "<img width=\"475\" alt=\"Image\" src=\"https://github.com/user-attachments/assets/77f850db-1a9a-4d52-91ca-c3e0327f6052\" />"
   ]
  },
  {
   "cell_type": "markdown",
   "metadata": {},
   "source": [
    "- Discuss queries from database where you extract a Python List (rows). Mention how these queries are provide by a 3rd. party library.<br> \n",
    "<img width=\"707\" alt=\"Image\" src=\"https://github.com/user-attachments/assets/8b02993e-0e42-4cda-93ae-0b8cc8e4e7f6\" />"
   ]
  },
  {
   "cell_type": "markdown",
   "metadata": {},
   "source": [
    "- Discuss methods in \"class\" you created to work with columns (create, read, update, delete)<br>\n",
    "create:<br> ![Image](https://github.com/user-attachments/assets/a26ecbe8-64ed-4aaf-8600-03d8732dc2aa)<br>\n",
    "read: <br> <img width=\"716\" alt=\"Image\" src=\"https://github.com/user-attachments/assets/fc951ae8-cc7f-4ac1-9103-0860890dd49b\" /><br>\n",
    "update:<br>  <img width=\"302\" alt=\"Image\" src=\"https://github.com/user-attachments/assets/795741c0-8155-41ec-a3b4-998bbbd69897\" /><br>\n",
    "delete:<br> <img width=\"646\" alt=\"Image\" src=\"https://github.com/user-attachments/assets/0427ec76-3f3c-470a-a680-a68e69b26a29\" /><br>"
   ]
  },
  {
   "cell_type": "markdown",
   "metadata": {},
   "source": [
    "## Algorithmic Code Requests \n",
    "Algorithmic code request. Show the definition of code blocks to handle a request."
   ]
  },
  {
   "cell_type": "markdown",
   "metadata": {},
   "source": [
    "- Discuss API class (code block) you used to perform  get, post, put, and delete methods. <br>\n",
    "<img width=\"827\" alt=\"Image\" src=\"https://github.com/user-attachments/assets/9e167ae3-7b46-43b3-9d4a-6bb9f404f1cb\" /> <br> <img width=\"628\" alt=\"Image\" src=\"https://github.com/user-attachments/assets/21185c24-7da9-41b2-aecb-ad6e9b50a4a8\" />"
   ]
  },
  {
   "cell_type": "markdown",
   "metadata": {},
   "source": [
    "- Discuss a method/procedure in class that contains sequencing, selection, and iteration. <br>\n",
    "<img width=\"959\" alt=\"Image\" src=\"https://github.com/user-attachments/assets/168658b6-21b5-44be-a8d5-3fb1ca26fecf\" />"
   ]
  },
  {
   "cell_type": "markdown",
   "metadata": {},
   "source": [
    "- Discuss the parameters (body of request) and return type (jasonify) of the function.<br>\n",
    "<img width=\"959\" alt=\"Image\" src=\"https://github.com/user-attachments/assets/685c25f4-faa4-4d78-82cc-5edfbe3377a1\" />"
   ]
  },
  {
   "cell_type": "markdown",
   "metadata": {},
   "source": [
    "## Call to Algorithm Request  \n",
    "Show the definition of code block to make a request."
   ]
  },
  {
   "cell_type": "markdown",
   "metadata": {},
   "source": [
    "- Discuss the call/request to the method with Algorithm (fetch to endpoint).<br>\n",
    "<img width=\"535\" alt=\"Image\" src=\"https://github.com/user-attachments/assets/f67ecc7d-69b1-4853-be99-555c1522a751\" /> <br>"
   ]
  },
  {
   "cell_type": "markdown",
   "metadata": {},
   "source": [
    "- Discuss the return/response from the method with Algorithm (fetch) and how you handle data.<br>\n",
    "The fetch() function sends an HTTP request to the backend. The request method is POST, meaning data is sent to the server. The body is converted into JSON format (JSON.stringify(responseData)). <br>\n",
    "fetching data: The function sends { group_name: 'Culinary Posts' } to the API. After Fetching (Output from API) The API returns an array of objects, each representing a channel:"
   ]
  },
  {
   "cell_type": "markdown",
   "metadata": {},
   "source": [
    "- Show how changing data or method triggers a different response, specifically normal conditions and error conditions."
   ]
  }
 ],
 "metadata": {
  "kernelspec": {
   "display_name": "venv",
   "language": "python",
   "name": "python3"
  },
  "language_info": {
   "codemirror_mode": {
    "name": "ipython",
    "version": 3
   },
   "file_extension": ".py",
   "mimetype": "text/x-python",
   "name": "python",
   "nbconvert_exporter": "python",
   "pygments_lexer": "ipython3",
   "version": "3.12.3"
  }
 },
 "nbformat": 4,
 "nbformat_minor": 2
}
