{
 "cells": [
  {
   "cell_type": "markdown",
   "metadata": {},
   "source": [
    "---\n",
    "layout: post\n",
    "title: Sprint 5 Review \n",
    "permalink: /sprint5review/\n",
    "---"
   ]
  },
  {
   "cell_type": "markdown",
   "metadata": {},
   "source": [
    "**Intro Requests for Review**\n",
    "*Purpose:* Our program, Restaurant Reviews, is a website that endulges in users to globally share their culinary opinions and thoughts. It is a social platform that allows for a user to post a review in different continents (Africa, Asia, South America), or our local city, San Diego. They can also explore our various restaurant locations in different countries within these continents for inspiration.\n",
    "\n",
    "*Individual Feature:* For South America, the maps were made to be unique for each country. The countries were selected to be the most visited places in South America (Brazil, Peru, Argentina, Chile), and the restaurants are popular restaurants within these tourist countries. The reviews for South America are also connected to channels, so when a user posts a review, their post will be shown on channels db and underneath the reviews container.  "
   ]
  },
  {
   "cell_type": "markdown",
   "metadata": {},
   "source": [
    "**Input/Output Requests**\n",
    "Our post feature for Reviews demonstrates an API request and response, where a user submits their post which sends a request towards the backend, to which the post will be displayed below. \n",
    "When we use Postman, to test RESTful APIs, we can GET in an API url into a request, such as http://127.0.0.1:8887/api/restaurant, and while running main.py, Postman will display the information for each location underneath the restaurant class. \n",
    " The db_init.py file allows for our database tables to be updated and created. We have been using this to see how our changes to the any channel or group ids we've tweaked. The db_backup.py file is what we use to save tester tables. The db_restore.py file recreates our database after we delete it so that any static data is still there. \n"
   ]
  },
  {
   "cell_type": "markdown",
   "metadata": {},
   "source": [
    "**List Requests**\n",
    "To convert JSON data of our names, ages, and roles within Sprint 5, we used API urls so that when main.py runs and the user logs in, they can see our names. \n",
    "An example of Python lists we use are also the About the Team page, when this process is done, there are rows that appear underneath the table, underneath the columns of our name, age, and role.\n",
    "Each member of the team has a defined class which appears as individual columns, which is displayed in our website."
   ]
  },
  {
   "cell_type": "markdown",
   "metadata": {},
   "source": [
    "**Algorhythmic Code Requests**\n",
    "The About the Team page also displays an example of specifying CRUD. The frontend request code specifies which method of CRUD needed, which lets the API url become fetched and shows up on our table.\n",
    "This process is an example of iteration due to its use of for loops that return information for every member.\n",
    "This demonstrates our body of the request is within the backend, showing up as JSON data to the frontend."
   ]
  },
  {
   "cell_type": "markdown",
   "metadata": {},
   "source": [
    "**Call to Algorithm Request**\n",
    "The call request method to algorithm is what we did in a previous review with different countries as our endpoints. We inserted a breakpoint within the api file, to which the request was pending. \n",
    "After the breakpoint was removed, the endpoint was fetched, and the static data within the endpoint was returned.\n",
    "When changing static data, the result changes are that the endpoints will fetch the changed data that we have added. If the wrong method is specified, however, the endpoint will not go through and the data will not be fetched. When main.py is not running either, requests for APIs cannot be made."
   ]
  }
 ],
 "metadata": {
  "language_info": {
   "name": "python"
  }
 },
 "nbformat": 4,
 "nbformat_minor": 2
}
