{
 "cells": [
  {
   "cell_type": "markdown",
   "metadata": {},
   "source": [
    "---\n",
    "layout: post\n",
    "title: Deployment with AWS Review\n",
    "permalink: /deploymentreview/"
   ]
  },
  {
   "cell_type": "markdown",
   "metadata": {},
   "source": [
    "## BI 4.1 Internet\n",
    "For computing devices to communicate, paths are found using routers. These paths transmit packets of a piece of information like a jigsaw puzzle, and the maximum speed is measured as bits/second (aka the bandwith). The computer network as a whole is able to send and receive data.\n",
    "For our website, we, the sender, are sending a request to the AWS server (the receiver) using routers to connect paths. <br>\n",
    "![Image](https://github.com/user-attachments/assets/65a18d40-b12a-418e-a000-f50c158b8277)<br>\n",
    "To manage the usage of sending/receiving data, protocols are required. The \"Narrow Waist\" model shows how the initial network access and messaging is processed into an IP, checked with transport (TCP or UDP), and submitted with applications such as a web server or a DNS. <br>\n",
    "![Image](https://github.com/user-attachments/assets/b587f31a-2b76-4bf3-af9f-0d1e734ff494)"
   ]
  },
  {
   "cell_type": "markdown",
   "metadata": {},
   "source": [
    "## BI 4.2 Fault Tolerance\n",
    "To be fault-tolerant is to be flexible to move around any mistakes. If multiple devices are connected with pathways that each have more than one to each other, the network would be fault-tolerant; if one pathway goes down, the dependancy of network is able to send the data onto different routes.<br>\n",
    "![Image](https://github.com/user-attachments/assets/ee6e776e-9cac-4d8f-9ace-b840e5d156ee)<br>\n",
    "When more devices are added to a fault-tolerant network, the network becomes stronger and more flexible, a network such as the Internet."
   ]
  },
  {
   "cell_type": "markdown",
   "metadata": {},
   "source": [
    "## BI 4.3 Parallel and Distributed Computing\n",
    "Sequential computing is when a computer does one task at a time, taking a consecutive amount of time. The tasks are dependent on the previous and has one CPU. <br>\n",
    "Parallel computing is when a computer utilizes its cores to complete the tasks at the same time. Some tasks take more than others, the longest-taking core is the total processing time.<br>\n",
    "Distributed computing is when a computer will send requests to other servers/devices to utilize their cores and CPUs. It combines both sequential and parallel computing. An example would be a Google search sending a request to thousands of servers.<br>\n",
    "For our deployment process, we are using AWS servers to deploy our backend, similarly to how we use Github to deploy our frontend. <br>\n",
    "![Image](https://github.com/user-attachments/assets/b766e963-7743-4bd4-9177-d075c99fda15)"
   ]
  },
  {
   "cell_type": "markdown",
   "metadata": {},
   "source": [
    "## Our Deployment Plan \n",
    "Issue Link- https://github.com/nighthawkcoders/flocker_frontend/issues/247\n",
    "- Secondary Deployment Admin (Prajna):\n",
    "    1. Setup DNS endpoint\n",
    "    2. Application Setup (find port, server, route)\n",
    "- Primary Depolyment Admin (Arshia):\n",
    "    1. Set up the new port, change in all locations\n",
    "    2. Cerbot Config\n",
    "- Mirabelle\n",
    "    1. Prepare frontend access to port and domain\n",
    "    2. Nginx setup\n",
    "- Sanya\n",
    "    1. Changing code in VS Code\n",
    "- Zoe\n",
    "    1. Debugging (Troubleshooting in AWS EC2)\n",
    "- Claire\n",
    "    1. Cockpit Navigation\n",
    "\n",
    "#247 Deployment Roles\n",
    "Arshia- Primary Deployment Admin  \n",
    "Prajna- Secondary Deployment Admin  \n",
    "Mirabelle- Setting up initial steps  \n",
    "Zoe- Debugging  \n",
    "Claire- Cockpit setup  \n",
    "Show more\n",
    "<https://github.com/nighthawkcoders/flocker_frontend|nighthawkcoders/flocker_frontend>nighthawkcoders/flocker_frontend | Today at 9:01 AM | Added by GitHub\n",
    "\n",
    "*Note:* To login to the deployment server on AWS EC2 you will use cockpit backdoor.\n",
    "https://cockpit.stu.nighthawkcodingsociety.com/\n",
    "![Image](https://github.com/user-attachments/assets/2a0f236e-e78e-4f6b-acda-ee957d3abbfd)"
   ]
  },
  {
   "cell_type": "markdown",
   "metadata": {},
   "source": [
    "# First Time Install & More Detailed Steps\n",
    "\n",
    "*Only one person does this*\n",
    "1. Login\n",
    "2. Clone your repo\n",
    "3. In your project directory,\n",
    "    a. create a .env file with passwords\n",
    "    b. run ./scripts/db_init.py\n",
    "4. In your repo run Docker commands\n",
    "    a. docker-compose build\n",
    "    b. docker-compose up -d\n",
    "5. Test your server, curl provides text response of your requested page\n",
    "    a. docker ps # look for you application and port\n",
    "    b. curl localhost:8087 # port 8087 is Mort's not ours, instead use port 8205\n",
    "\n",
    "Now you are ready for AWS and Route53 Domain Name registration.\n",
    "AWS Console sign-in URL\n",
    "https://nighthawkcodingsociety.signin.aws.amazon.com/console\n",
    "User name:\n",
    "ubuntu \n",
    "\n",
    "After AWS Login you will register domain on Route53\n",
    "https://us-east-1.console.aws.amazon.com/route53/v2/hostedzones?region=us-east-1#ListRecordSets/Z09610033A3V5NNQF4NH5\n",
    "** flask in illustration is Mort's not ours, instead use restaurant_backend\n",
    "![Image](https://github.com/user-attachments/assets/0514bfe8-3338-43f7-b7d4-4ccd3c499b73)\n",
    "\n",
    "\n",
    "Test you DNS server in any terminal (MacOs, WSL, or AWS).  Be sure it command returns IP address in answer section.\n",
    "(venv) johnmortensen@Mac portfolio_2025 % dig flask.stu.nighthawkcodingsociety.com  # our subdomain is restaurant.stu---, frontend is restaurant_frontend\n",
    "\n",
    "; <<>> DiG 9.10.6 <<>> flask.stu.nighthawkcodingsociety.com\n",
    ";; global options: +cmd\n",
    ";; Got answer:\n",
    ";; ->>HEADER<<- opcode: QUERY, status: NOERROR, id: 58645\n",
    ";; flags: qr rd ra; QUERY: 1, ANSWER: 1, AUTHORITY: 0, ADDITIONAL: 1\n",
    "\n",
    ";; OPT PSEUDOSECTION:\n",
    "; EDNS: version: 0, flags:; udp: 512\n",
    ";; QUESTION SECTION:\n",
    ";flask.stu.nighthawkcodingsociety.com. IN A\n",
    "\n",
    ";; ANSWER SECTION:\n",
    "flask.stu.nighthawkcodingsociety.com. 300 IN A\t3.130.255.192\n",
    "\n",
    ";; Query time: 150 msec\n",
    ";; SERVER: 2603:8001:4f00:4079::1#53(2603:8001:4f00:4079::1)\n",
    ";; WHEN: Sat Feb 01 21:35:20 PST 2025\n",
    ";; MSG SIZE  rcvd: 81\n",
    "<br>\n",
    "<br>\n",
    "\n",
    "Final steps are Nginx and Certbot.  We will do these steps in a live Tech Talk.  You should prep as it will be graded."
   ]
  }
 ],
 "metadata": {
  "language_info": {
   "name": "python"
  }
 },
 "nbformat": 4,
 "nbformat_minor": 2
}
