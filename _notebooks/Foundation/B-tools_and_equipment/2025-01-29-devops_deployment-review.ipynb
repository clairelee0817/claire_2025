{
 "cells": [
  {
   "cell_type": "markdown",
   "metadata": {},
   "source": [
    "---\n",
    "layout: post\n",
    "title: Deployment with AWS Review\n",
    "permalink: /deploymentreview/"
   ]
  },
  {
   "cell_type": "markdown",
   "metadata": {},
   "source": [
    "## BI 4.1 Internet\n",
    "For computing devices to communicate, paths are found using routers. These paths transmit packets of a piece of information like a jigsaw puzzle, and the maximum speed is measured as bits/second (aka the bandwith). The computer network as a whole is able to send and receive data. <br>\n",
    "![Image](https://github.com/user-attachments/assets/65a18d40-b12a-418e-a000-f50c158b8277)<br>\n",
    "To manage the usage of sending/receiving data, protocols are required. The \"Narrow Waist\" model shows how the initial network access and messaging is processed into an IP, checked with transport (TCP or UDP), and submitted with applications such as a web server or a DNS. <br>\n",
    "![Image](https://github.com/user-attachments/assets/b587f31a-2b76-4bf3-af9f-0d1e734ff494)"
   ]
  },
  {
   "cell_type": "markdown",
   "metadata": {},
   "source": [
    "## BI 4.2 Fault Tolerance\n",
    "To be fault-tolerant is to be flexible to move around any mistakes. If multiple devices are connected with pathways that each have more than one to each other, the network would be fault-tolerant; if one pathway goes down, the dependancy of network is able to send the data onto different routes.<br>\n",
    "![Image](https://github.com/user-attachments/assets/ee6e776e-9cac-4d8f-9ace-b840e5d156ee)<br>\n",
    "When more devices are added to a fault-tolerant network, the network becomes stronger and more flexible, a network such as the Internet."
   ]
  },
  {
   "cell_type": "markdown",
   "metadata": {},
   "source": [
    "## BI 4.3 Parallel and Distributed Computing\n",
    "Sequential computing is when a computer does one task at a time, taking a consecutive amount of time. The tasks are dependent on the previous and has one CPU. <br>\n",
    "Parallel computing is when a computer utilizes its cores to complete the tasks at the same time. Some tasks take more than others, the longest-taking core is the total processing time.<br>\n",
    "Distributed computing is when a computer will send requests to other servers/devices to utilize their cores and CPUs. It combines both sequential and parallel computing. An example would be a Google search sending a request to thousands of servers.<br>\n",
    "![Image](https://github.com/user-attachments/assets/b766e963-7743-4bd4-9177-d075c99fda15)"
   ]
  },
  {
   "cell_type": "markdown",
   "metadata": {},
   "source": [
    "## Our Deployment Plan \n",
    "Issue Link- https://github.com/nighthawkcoders/flocker_frontend/issues/247\n",
    "- Secondary Deployment Admin (Prajna):\n",
    "    1. Setup DNS endpoint\n",
    "    2. Application Setup (find port, server, route)\n",
    "- Primary Depolyment Admin (Arshia):\n",
    "    1. Set up the new port, change in all locations\n",
    "    2. Cerbot Config\n",
    "- Mirabelle\n",
    "    1. Prepare frontend access to port and domain\n",
    "    2. Nginx setup\n",
    "- Sanya\n",
    "    1. Changing code in VS Code\n",
    "- Zoe\n",
    "    1. Debugging (Troubleshooting in AWS EC2)\n",
    "- Claire\n",
    "    1. Cockpit Navigation\n",
    "\n",
    "#247 Deployment Roles\n",
    "Arshia- Primary Deployment Admin  \n",
    "Prajna- Secondary Deployment Admin  \n",
    "Mirabelle- Setting up initial steps  \n",
    "Zoe- Debugging  \n",
    "Claire- Cockpit setup  \n",
    "Show more\n",
    "<https://github.com/nighthawkcoders/flocker_frontend|nighthawkcoders/flocker_frontend>nighthawkcoders/flocker_frontend | Today at 9:01 AM | Added by GitHub\n"
   ]
  }
 ],
 "metadata": {
  "language_info": {
   "name": "python"
  }
 },
 "nbformat": 4,
 "nbformat_minor": 2
}
