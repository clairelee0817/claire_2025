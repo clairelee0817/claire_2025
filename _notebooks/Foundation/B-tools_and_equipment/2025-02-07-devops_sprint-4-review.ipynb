{
 "cells": [
  {
   "cell_type": "markdown",
   "metadata": {},
   "source": [
    "---\n",
    "layout: post\n",
    "title: Sprint 4 Review\n",
    "permalink: /sprint4review/"
   ]
  }
 ],
 "metadata": {
  "language_info": {
   "name": "python"
  }
 },
 "nbformat": 4,
 "nbformat_minor": 2
}
