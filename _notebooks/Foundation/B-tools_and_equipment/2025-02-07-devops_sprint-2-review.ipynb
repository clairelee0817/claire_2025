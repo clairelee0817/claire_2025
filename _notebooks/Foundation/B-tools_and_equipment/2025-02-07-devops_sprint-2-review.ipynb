{
 "cells": [
  {
   "cell_type": "markdown",
   "metadata": {},
   "source": [
    "---\n",
    "layout: post\n",
    "title: Sprint 2 Review\n",
    "permalink: /sprint2review/"
   ]
  },
  {
   "cell_type": "markdown",
   "metadata": {},
   "source": [
    "My team's unit was 3.3.2 Data Abstraction (Variables) and JSON. I know about the contents of this lesson because I helped configure the hacks/homework assignment given, which was to find an online JSON file and to re-edit it using the variables taught in the lesson. The blog I made entails my goals and accomplishments of Sprint 2 of how my team learned to configure weighted grading and aim to thoroughly teach the lesson so that it is understandable and easy to follow. Initially, I had little prerequisites in CSP, but I consulted in online lessons as well as my teammates with more knowledge than I am to explain concepts that I didn't understand completely. Something I remembered is that I didn't know how to create a separate Python or Javascript file to complete the other teams' homeworks. Then I realized that I work on a Kasm server and I would only have to make it in my personal repository. My team's/my work consists of unique examples of coding and a unique theme color, pink. "
   ]
  }
 ],
 "metadata": {
  "kernelspec": {
   "display_name": "venv",
   "language": "python",
   "name": "python3"
  },
  "language_info": {
   "codemirror_mode": {
    "name": "ipython",
    "version": 3
   },
   "file_extension": ".py",
   "mimetype": "text/x-python",
   "name": "python",
   "nbconvert_exporter": "python",
   "pygments_lexer": "ipython3",
   "version": "3.12.3"
  }
 },
 "nbformat": 4,
 "nbformat_minor": 2
}
