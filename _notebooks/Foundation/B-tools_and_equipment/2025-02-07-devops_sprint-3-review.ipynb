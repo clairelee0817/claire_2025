{
 "cells": [
  {
   "cell_type": "markdown",
   "metadata": {},
   "source": [
    "---\n",
    "layout: post\n",
    "title: Sprint 3 Review\n",
    "permalink: /sprint3review/"
   ]
  },
  {
   "cell_type": "markdown",
   "metadata": {},
   "source": [
    "## Review Ticket \n",
    "\n",
    "*Tools Mastery:* For Sprint 3, the tools I used were Github, Kasm, Postman, and other tools that were solely for designing the aspects of my team's page (e.g. Google Drive, Canva). For Github, I was able to add documents such as a leaderboard design for the frontend and the base document for the dock of our page. For Kasm, my ability has improved, but overall was not my main focus, as personally, my Kasm was slightly faulty. I mostly edited files in Github in the frontend.\n",
    "\n",
    "*Programming Skills:* The languages that are used now are Markdown with HTML and JS (with JSON). I demonstrated my current skills in Markdown with my contribution of leaderboard and dock as mentioned before. For JS and JSON, I also attended the Tech Talk and was able to learn how to configure posts and how to make them work on the frontend to the backend. These were in JSON and JS. I compiled this information with the raw form of code to my teammate who was working on the backend, to which I was able to observe how he construed the code together and learn from temporary broken codes and posts not working.\n",
    "\n",
    "*College Board Requirements:* College Board describes the CSP AP exam as partly multiple choice and partly a performance task section, which is programming code using Python."
   ]
  }
 ],
 "metadata": {
  "language_info": {
   "name": "python"
  }
 },
 "nbformat": 4,
 "nbformat_minor": 2
}
