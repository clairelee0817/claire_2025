{
 "cells": [
  {
   "cell_type": "markdown",
   "metadata": {},
   "source": [
    "---\n",
    "layout: post\n",
    "title: Cookie Clicker\n",
    "permalink: /cookieclicker/\n",
    "---"
   ]
  },
  {
   "cell_type": "code",
   "execution_count": null,
   "metadata": {
    "vscode": {
     "languageId": "javascript"
    }
   },
   "outputs": [],
   "source": [
    "let cookies = 0;\n",
    "let cookiesPerClick = 1;\n",
    "let upgradeCost = 10;\n",
    "\n",
    "const cookieDiv = document.getElementById('cookie');\n",
    "const scoreDiv = document.getElementById('score');\n",
    "const upgradeButton = document.getElementById('upgrade');\n",
    "\n",
    "// Function to update the score display\n",
    "function updateScore() {\n",
    "    scoreDiv.textContent = `Cookies: ${cookies}`;\n",
    "}\n",
    "\n",
    "// Click event for the cookie\n",
    "cookieDiv.addEventListener('click', () => {\n",
    "    cookies += cookiesPerClick;\n",
    "    updateScore();\n",
    "});\n",
    "\n",
    "// Upgrade button click event\n",
    "upgradeButton.addEventListener('click', () => {\n",
    "    if (cookies >= upgradeCost) {\n",
    "        cookies -= upgradeCost;\n",
    "        cookiesPerClick++;\n",
    "        upgradeCost = Math.floor(upgradeCost * 1.5); // Increase cost for the next upgrade\n",
    "        upgradeButton.textContent = `Buy Upgrade (Cost: ${upgradeCost} cookies)`;\n",
    "        updateScore();\n",
    "    } else {\n",
    "        alert(\"Not enough cookies!\");\n",
    "    }\n",
    "});\n"
   ]
  }
 ],
 "metadata": {
  "language_info": {
   "name": "python"
  }
 },
 "nbformat": 4,
 "nbformat_minor": 2
}
