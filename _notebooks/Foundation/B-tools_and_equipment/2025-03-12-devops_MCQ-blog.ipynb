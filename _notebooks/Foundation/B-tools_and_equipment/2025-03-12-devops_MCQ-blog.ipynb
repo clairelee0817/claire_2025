{
 "cells": [
  {
   "cell_type": "markdown",
   "metadata": {},
   "source": [
    "---\n",
    "layout: post\n",
    "title: MCQ Reflection\n",
    "permalink: /mcqblog/\n",
    "---"
   ]
  },
  {
   "cell_type": "markdown",
   "metadata": {},
   "source": [
    "## MCQ \n",
    "Overall, since the last MCQ, I improved my score from 38/66 (~58%) to 45/67 (~67%). I was able to go through the questions more thoroughly, which was an issue I had with the last MCQ. Previously, I had rushed through the answers instead of trying to go through each question carefully, which caused me not only to have a bad score but also little learning experience. Now, I spent, on average, 5-10 minutes on each question, and I was able to improve my score. <br>\n",
    "\n",
    "**Corrections** <br>\n",
    "Q2 - Citizen science with wildlife research: I chose the answer that did not reflect citizen science and focused more on individual science. Though I thought it was the most efficient answer, it did not incorporate group science elements. <br>\n",
    "\n",
    "Q10 - Science museum tickets: The procedure I chose did not consider the condition of people older than 12 AND going on a guided tour, therefore it wasn’t functional. <br>\n",
    "\n",
    "Q14 - Print digits algorithm: The step that I included failed to consider the infite loop that would result since it will display the integer quotient 0 and store the remainder 2 infinitely. <br>\n",
    "\n",
    "Q15 - Compare output of program a and b: While I thought that out of the programs displayed, program B displayed one more value than program A, this is not the case. Both programs print ten values. <br>\n",
    "\n",
    "Q17 - Data represented by bit sequences: At the lowest level, all data is represented with sequences of bits. <br>\n",
    "\n",
    "Q20 - Average amount of data per user: Each value on the right line graph is roughly 10x the value on the left graph, not 100x. <br>\n",
    "\n",
    "Q22 - Simulate spinner: I incorrectly calculated the probabilities of each chance, therefore the procedure I picked is not correct. <br>\n",
    "\n",
    "Q27 - Existence of unsolvable problems: I incorrectly assumed that all problems that computers can solve require internet, but they don’t. <br>\n",
    "\n",
    "Q28 - Swap alpha and beta: The code segment I chose would store both values of beta and alpha to an initial value of alpha, which would not allow for the variable temp to be interchanged. <br>\n",
    "\n",
    "Q34 - BotMover: I misunderstood what the code segment meant and assigned the wrong instructions. <br>\n",
    "\n",
    "Q37 - DrawLine on a coordinate grid: The lines would be drawn incorrectly. <br>\n",
    "\n",
    "Q39 - Error in calculating sum: The step I chose to change would cause the loop to terminate when i is 10, which would not fix the problem. <br>\n",
    "\n",
    "Q40 - Role of certificate authorities: The meaning of issuing certificate authorities is not password certificates, but digital certificates. <br>\n",
    "\n",
    "Q47 - Requirements for binary search: A binary serach will work on any sorted list even if it was duplicate values. <br>\n",
    "\n",
    "Q48 - Phishing scenario: The interception and deceitful analyzing can take place without the user providing personal information, therefore does not require phishing. <br>\n",
    "\n",
    "Q49 - Unique bit sequences for staff: Only 7 bits is the number that can allow for a unique bit sequence. <br>\n",
    "\n",
    "Q50 - Reasonable time algorithms: All algorithms have reasonable time since the maximum amount of elements that are gathered are n^2 elements. <br>\n",
    "\n",
    "Q54 - Copy even values from originalList to newList: The change I chose would add only odd elements instead of even elements. <br>\n",
    "\n",
    "Q58 - Error in AnyPairs procedure: This procedure returns the intended value, which is not what the question asks for. <br>\n",
    "\n",
    "Q59 - Advantages of open source software: Open-source software can be continually updated even without the original developers when it becomes public. <br>\n",
    "\n",
    "Q66 - Error in counting perfect numbers: Without removing Line 11, the program will not work as intended. <br>\n",
    "\n",
    "Q67 - Error in numOccurrences procedure: The procedure I chose does return the intended value, which is not what the question asks for. <br><br>\n",
    "\n",
    "\n",
    "**CPT Big Ideas**<br>\n",
    "- Big Idea 1 Creative Development: There were minimal questions that covered this Idea, but I performed slightly below average. This may be because I was focused more on the technical issues of the MCQ that the debugging parts were my weaknesses. <br>\n",
    "\n",
    "- Big Idea 2 Data: Like Idea 1, there were also minimal questions that covered this idea, but in this area I performed slightly above average than in Idea 1. <br>\n",
    "\n",
    "- Big Idea 3 Algorithms and Programming: Since most of the questions were focused around this Idea, I observed more mistakes than in the other topics. There were several topics that only had one question cover them that I made mistakes on, such as 3.1 Variables and Assignments, or 3.18 Undecidable Problems. <br>\n",
    "\n",
    "- Big Idea 4 Computing Systems and Networks: I believe that due to the relevancy and large amount of review that this topic was related to, I was able to score full marks for questions in this Idea. <br>\n",
    "\n",
    "- Big Idea 5 Impact of Computing: I performed lower than average on this topic, which may be due to the fact that this Idea hasn’t been focused on in relevant elements of the class. However, this is an overarching Idea to consider when implementing computing systems in order to understand the meaning and purpose. <br>"
   ]
  },
  {
   "cell_type": "markdown",
   "metadata": {},
   "source": []
  }
 ],
 "metadata": {
  "language_info": {
   "name": "python"
  }
 },
 "nbformat": 4,
 "nbformat_minor": 2
}
