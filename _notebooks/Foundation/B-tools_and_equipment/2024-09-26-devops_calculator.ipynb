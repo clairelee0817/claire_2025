{
 "cells": [
  {
   "cell_type": "markdown",
   "metadata": {},
   "source": [
    "---\n",
    "layout: post\n",
    "title: Calculator\n",
    "permalink: /calculator/\n",
    "---"
   ]
  },
  {
   "cell_type": "code",
   "execution_count": null,
   "metadata": {},
   "outputs": [
    {
     "data": {
      "application/vnd.jupyter.widget-view+json": {
       "model_id": "595c4c03bd29453cb1e1357aefaf8437",
       "version_major": 2,
       "version_minor": 0
      },
      "text/plain": [
       "FloatText(value=0.0, description='Number 1:')"
      ]
     },
     "metadata": {},
     "output_type": "display_data"
    },
    {
     "data": {
      "application/vnd.jupyter.widget-view+json": {
       "model_id": "8ace7022dc074316a7b3a1cb88a9a35d",
       "version_major": 2,
       "version_minor": 0
      },
      "text/plain": [
       "FloatText(value=0.0, description='Number 2:')"
      ]
     },
     "metadata": {},
     "output_type": "display_data"
    },
    {
     "data": {
      "application/vnd.jupyter.widget-view+json": {
       "model_id": "f482944e478e42738625b4992bbe08e0",
       "version_major": 2,
       "version_minor": 0
      },
      "text/plain": [
       "Dropdown(description='Operation:', options=('+', '-', '*', '/'), value='+')"
      ]
     },
     "metadata": {},
     "output_type": "display_data"
    },
    {
     "data": {
      "application/vnd.jupyter.widget-view+json": {
       "model_id": "5556a44691de44ffb1caed2b2b391f52",
       "version_major": 2,
       "version_minor": 0
      },
      "text/plain": [
       "Button(description='Calculate', style=ButtonStyle())"
      ]
     },
     "metadata": {},
     "output_type": "display_data"
    },
    {
     "data": {
      "application/vnd.jupyter.widget-view+json": {
       "model_id": "7b8f1618761041b8aa62a39e56d4da6e",
       "version_major": 2,
       "version_minor": 0
      },
      "text/plain": [
       "Output()"
      ]
     },
     "metadata": {},
     "output_type": "display_data"
    }
   ],
   "source": [
    "import ipywidgets as widgets\n",
    "from IPython.display import display, clear_output\n",
    "\n",
    "# Input widgets\n",
    "num1 = widgets.FloatText(description='Number 1:')\n",
    "num2 = widgets.FloatText(description='Number 2:')\n",
    "operation = widgets.Dropdown(\n",
    "    options=['+', '-', '*', '/'],\n",
    "    description='Operation:'\n",
    ")\n",
    "\n",
    "# Output area\n",
    "output = widgets.Output()\n",
    "\n",
    "# Function to calculate and display result\n",
    "def calculate(b):\n",
    "    with output:\n",
    "        clear_output()\n",
    "        a = num1.value\n",
    "        b = num2.value\n",
    "        op = operation.value\n",
    "        try:\n",
    "            if op == '+':\n",
    "                result = a + b\n",
    "            elif op == '-':\n",
    "                result = a - b\n",
    "            elif op == '*':\n",
    "                result = a * b\n",
    "            elif op == '/':\n",
    "                result = a / b\n",
    "            print(f\"Result: {a} {op} {b} = {result}\")\n",
    "        except Exception as e:\n",
    "            print(\"Error:\", e)\n",
    "\n",
    "# Button to trigger calculation\n",
    "calc_button = widgets.Button(description='Calculate')\n",
    "calc_button.on_click(calculate)\n",
    "\n",
    "# Display widgets\n",
    "display(num1, num2, operation, calc_button, output)\n"
   ]
  }
 ],
 "metadata": {
  "kernelspec": {
   "display_name": "venv",
   "language": "python",
   "name": "python3"
  },
  "language_info": {
   "codemirror_mode": {
    "name": "ipython",
    "version": 3
   },
   "file_extension": ".py",
   "mimetype": "text/x-python",
   "name": "python",
   "nbconvert_exporter": "python",
   "pygments_lexer": "ipython3",
   "version": "3.12.3"
  }
 },
 "nbformat": 4,
 "nbformat_minor": 2
}
