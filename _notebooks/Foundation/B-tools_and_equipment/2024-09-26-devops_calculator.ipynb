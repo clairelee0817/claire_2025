{
 "cells": [
  {
   "cell_type": "markdown",
   "metadata": {
    "vscode": {
     "languageId": "plaintext"
    }
   },
   "source": [
    "---\n",
    "layout: post\n",
    "title: Calculator\n",
    "permalink: /calculator/\n",
    "---"
   ]
  },
  {
   "cell_type": "code",
   "execution_count": null,
   "metadata": {
    "vscode": {
     "languageId": "html"
    }
   },
   "outputs": [],
   "source": [
    "<!DOCTYPE html>\n",
    "<html lang=\"en\">\n",
    "<head>\n",
    "    <meta charset=\"UTF-8\">\n",
    "    <meta name=\"viewport\" content=\"width=device-width, initial-scale=1.0\">\n",
    "    <title>Simple Calculator</title>\n",
    "    <style>\n",
    "        body {\n",
    "            font-family: Arial, sans-serif;\n",
    "            text-align: center;\n",
    "            background-color: #f4f4f4;\n",
    "            margin: 50px;\n",
    "        }\n",
    "        #calculator {\n",
    "            display: inline-block;\n",
    "            padding: 20px;\n",
    "            border: 1px solid #ccc;\n",
    "            border-radius: 10px;\n",
    "            background: white;\n",
    "        }\n",
    "        input {\n",
    "            margin: 5px;\n",
    "            padding: 10px;\n",
    "            font-size: 16px;\n",
    "            width: 50px;\n",
    "            text-align: right;\n",
    "        }\n",
    "        button {\n",
    "            padding: 10px 20px;\n",
    "            font-size: 16px;\n",
    "            margin: 5px;\n",
    "        }\n",
    "    </style>\n",
    "</head>\n",
    "<body>\n",
    "\n",
    "    <h1>Simple Calculator</h1>\n",
    "    <div id=\"calculator\">\n",
    "        <input type=\"text\" id=\"display\" disabled>\n",
    "        <br>\n",
    "        <button onclick=\"clearDisplay()\">C</button>\n",
    "        <button onclick=\"appendToDisplay('7')\">7</button>\n",
    "        <button onclick=\"appendToDisplay('8')\">8</button>\n",
    "        <button onclick=\"appendToDisplay('9')\">9</button>\n",
    "        <button onclick=\"appendToDisplay('/')\">/</button>\n",
    "        <br>\n",
    "        <button onclick=\"appendToDisplay('4')\">4</button>\n",
    "        <button onclick=\"appendToDisplay('5')\">5</button>\n",
    "        <button onclick=\"appendToDisplay('6')\">6</button>\n",
    "        <button onclick=\"appendToDisplay('*')\">*</button>\n",
    "        <br>\n",
    "        <button onclick=\"appendToDisplay('1')\">1</button>\n",
    "        <button onclick=\"appendToDisplay('2')\">2</button>\n",
    "        <button onclick=\"appendToDisplay('3')\">3</button>\n",
    "        <button onclick=\"appendToDisplay('-')\">-</button>\n",
    "        <br>\n",
    "        <button onclick=\"appendToDisplay('0')\">0</button>\n",
    "        <button onclick=\"calculateResult()\">=</button>\n",
    "        <button onclick=\"appendToDisplay('+')\">+</button>\n",
    "    </div>\n",
    "\n",
    "    <script>\n",
    "        function appendToDisplay(value) {\n",
    "            document.getElementById('display').value += value;\n",
    "        }\n",
    "\n",
    "        function clearDisplay() {\n",
    "            document.getElementById('display').value = '';\n",
    "        }\n",
    "\n",
    "        function calculateResult() {\n",
    "            const display = document.getElementById('display');\n",
    "            try {\n",
    "                display.value = eval(display.value);\n",
    "            } catch (error) {\n",
    "                display.value = 'Error';\n",
    "            }\n",
    "        }\n",
    "    </script>\n",
    "\n",
    "</body>\n",
    "</html>\n"
   ]
  }
 ],
 "metadata": {
  "language_info": {
   "name": "python"
  }
 },
 "nbformat": 4,
 "nbformat_minor": 2
}
