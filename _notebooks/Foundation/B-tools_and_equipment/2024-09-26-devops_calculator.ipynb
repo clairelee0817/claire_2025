{
 "cells": [
  {
   "cell_type": "markdown",
   "metadata": {
    "vscode": {
     "languageId": "plaintext"
    }
   },
   "source": [
    "---\n",
    "layout: post\n",
    "title: Calculator\n",
    "permalink: /calculator/\n",
    "---"
   ]
  },
  {
   "cell_type": "code",
   "execution_count": null,
   "metadata": {},
   "outputs": [],
   "source": [
    "%%html\n",
    "<!DOCTYPE html>\n",
    "<html lang=\"en\">\n",
    "<head>\n",
    "    <meta charset=\"UTF-8\">\n",
    "    <meta name=\"viewport\" content=\"width=device-width, initial-scale=1.0\">\n",
    "    <title>Cookie Clicker Game</title>\n",
    "    <style>\n",
    "        body {\n",
    "            font-family: Arial, sans-serif;\n",
    "            text-align: center;\n",
    "            background-color: #f4f4f4;\n",
    "        }\n",
    "        #cookie {\n",
    "            width: 200px;\n",
    "            height: 200px;\n",
    "            background: url('https://upload.wikimedia.org/wikipedia/commons/thumb/d/d5/Chocolate_chip_cookie.svg/1200px-Chocolate_chip_cookie.svg.png') no-repeat center center;\n",
    "            background-size: cover;\n",
    "            cursor: pointer;\n",
    "            margin: 20px auto;\n",
    "        }\n",
    "        #score {\n",
    "            font-size: 2em;\n",
    "            margin-top: 20px;\n",
    "        }\n",
    "        #upgrade {\n",
    "            margin-top: 20px;\n",
    "        }\n",
    "    </style>\n",
    "</head>\n",
    "<body>\n",
    "\n",
    "    <h1>Cookie Clicker</h1>\n",
    "    <div id=\"cookie\" onclick=\"addCookie()\"></div>\n",
    "    <div id=\"score\">Cookies: 0</div>\n",
    "    <button id=\"upgrade\" onclick=\"buyUpgrade()\">Upgrade (Cost: 10 cookies)</button>\n",
    "\n",
    "    <script>\n",
    "        let cookies = 0;\n",
    "        let cookiePerClick = 1;\n",
    "        let upgradeCost = 10;\n",
    "\n",
    "        function addCookie() {\n",
    "            cookies += cookiePerClick;\n",
    "            updateDisplay();\n",
    "        }\n",
    "\n",
    "        function updateDisplay() {\n",
    "            document.getElementById('score').innerText = `Cookies: ${cookies}`;\n",
    "        }\n",
    "\n",
    "        function buyUpgrade() {\n",
    "            if (cookies >= upgradeCost) {\n",
    "                cookies -= upgradeCost;\n",
    "                cookiePerClick += 1;\n",
    "                upgradeCost = Math.floor(upgradeCost * 1.5); // Increase upgrade cost\n",
    "                document.getElementById('upgrade').innerText = `Upgrade (Cost: ${upgradeCost} cookies)`;\n",
    "                updateDisplay();\n",
    "            } else {\n",
    "                alert(\"Not enough cookies!\");\n",
    "            }\n",
    "        }\n",
    "    </script>\n",
    "\n",
    "</body>\n",
    "</html>\n"
   ]
  }
 ],
 "metadata": {
  "language_info": {
   "name": "python"
  }
 },
 "nbformat": 4,
 "nbformat_minor": 2
}
