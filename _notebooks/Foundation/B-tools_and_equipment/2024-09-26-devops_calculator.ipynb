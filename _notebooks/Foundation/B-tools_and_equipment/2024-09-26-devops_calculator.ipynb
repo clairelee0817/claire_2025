{
 "cells": [
  {
   "cell_type": "code",
   "execution_count": null,
   "metadata": {
    "vscode": {
     "languageId": "plaintext"
    }
   },
   "outputs": [],
   "source": [
    "---\n",
    "layout: post\n",
    "title: Calculator\n",
    "permalink: /calculator/\n",
    "---"
   ]
  },
  {
   "cell_type": "code",
   "execution_count": null,
   "metadata": {},
   "outputs": [],
   "source": [
    "from IPython.display import display, HTML, Javascript\n",
    "\n",
    "# HTML and JavaScript for the calculator\n",
    "calculator_html = \"\"\"\n",
    "<div>\n",
    "    <h1>Simple Calculator</h1>\n",
    "    <input type=\"text\" id=\"display\" disabled style=\"width: 100%; padding: 10px; font-size: 1.5em; text-align: right;\" />\n",
    "    <div>\n",
    "        <button onclick=\"appendToDisplay('1')\">1</button>\n",
    "        <button onclick=\"appendToDisplay('2')\">2</button>\n",
    "        <button onclick=\"appendToDisplay('3')\">3</button>\n",
    "        <button onclick=\"appendToDisplay('+')\">+</button>\n",
    "    </div>\n",
    "    <div>\n",
    "        <button onclick=\"appendToDisplay('4')\">4</button>\n",
    "        <button onclick=\"appendToDisplay('5')\">5</button>\n",
    "        <button onclick=\"appendToDisplay('6')\">6</button>\n",
    "        <button onclick=\"appendToDisplay('-')\">-</button>\n",
    "    </div>\n",
    "    <div>\n",
    "        <button onclick=\"appendToDisplay('7')\">7</button>\n",
    "        <button onclick=\"appendToDisplay('8')\">8</button>\n",
    "        <button onclick=\"appendToDisplay('9')\">9</button>\n",
    "        <button onclick=\"appendToDisplay('*')\">*</button>\n",
    "    </div>\n",
    "    <div>\n",
    "        <button onclick=\"clearDisplay()\">C</button>\n",
    "        <button onclick=\"appendToDisplay('0')\">0</button>\n",
    "        <button onclick=\"calculateResult()\">=</button>\n",
    "        <button onclick=\"appendToDisplay('/')\">/</button>\n",
    "    </div>\n",
    "</div>\n",
    "\n",
    "<script>\n",
    "    function appendToDisplay(value) {\n",
    "        const display = document.getElementById('display');\n",
    "        display.value += value;\n",
    "    }\n",
    "\n",
    "    function clearDisplay() {\n",
    "        const display = document.getElementById('display');\n",
    "        display.value = '';\n",
    "    }\n",
    "\n",
    "    function calculateResult() {\n",
    "        const display = document.getElementById('display');\n",
    "        try {\n",
    "            display.value = eval(display.value);\n",
    "        } catch (error) {\n",
    "            display.value = 'Error';\n",
    "        }\n",
    "    }\n",
    "</script>\n",
    "\"\"\"\n",
    "\n",
    "# Display the calculator\n",
    "display(HTML(calculator_html))\n"
   ]
  }
 ],
 "metadata": {
  "language_info": {
   "name": "python"
  }
 },
 "nbformat": 4,
 "nbformat_minor": 2
}
