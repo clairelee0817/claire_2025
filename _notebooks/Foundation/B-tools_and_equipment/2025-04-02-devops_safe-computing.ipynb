{
 "cells": [
  {
   "cell_type": "markdown",
   "metadata": {},
   "source": [
    "---\n",
    "layout: post\n",
    "title: BI 5 Safe Computing \n",
    "permalink: /safecomputing/\n",
    "---"
   ]
  },
  {
   "cell_type": "markdown",
   "metadata": {},
   "source": [
    "### Popcorn Hack #1: Identifying PII\n",
    "\n",
    "**Which of the following is considered PII?**\n",
    "A. Fingerprint\n",
    "B. Favorite Color\n",
    "C. Zip Code\n",
    "D. Job Title\n",
    "\n",
    "*Correct Answer*: A --> A fingerprint is unique to each user."
   ]
  },
  {
   "cell_type": "markdown",
   "metadata": {},
   "source": [
    "### Popcorn Hack #2: Encryption Quiz\n",
    "\n",
    "**Which of the following is an example of symmetric encryption?**\n",
    "A. Evy buys a locked box that operates using two different codes. When the first code is entered, a slot opens that allows a message to be put in the box. When the second code is entered, the door to the box opens. Evy gives the first code to her friends so they can leave messages for her and keeps the second code to herself so that she is the only one who can retrieve the messages.\n",
    "B. Finn and Gwen develop a system that maps each letter of the alphabet to a unique symbol using a secret key. Finn uses the key to write a message to Gwen where each letter is replaced with the corresponding symbol. Gwen uses the key to map each symbol back to the original letter.\n",
    "C. Hannah writes a message to send to Isabel and hides the message under a rock behind the soccer field. Hannah gives Isabel the exact location of the rock so that only Isabel can find the message.\n",
    "D. Juan writes a message to send to Kelly and slides the message through a slot in the front of Kelly’s locker. Juan knows that Kelly has not shared her locker combination with anyone, so no one other than Kelly will be able to read the message.\n",
    "\n",
    "*Correct Answer*: B --> Finn and Gwen are able to decrypt an encrypted message using the same key. "
   ]
  },
  {
   "cell_type": "markdown",
   "metadata": {},
   "source": [
    "### Popcorn Hack: Password Security\n",
    "\n",
    "The passwords I tested were my personal passwords, which I found were only moderately strong, and some would take only a couple of days to crack. What makes a password secure is its uniqueness and unrelatability to the user. If a user were to put their full name as their password, it would not be a strong password since hackers will guess your password very easily. Meanwhile, if a user were to put a more cryptic piece of information, like their second cousin's last name with multiple unique symbols / numbers such as 4, 8, !, @, etc., it would be much harder for hackers to guess. "
   ]
  }
 ],
 "metadata": {
  "language_info": {
   "name": "python"
  }
 },
 "nbformat": 4,
 "nbformat_minor": 2
}
