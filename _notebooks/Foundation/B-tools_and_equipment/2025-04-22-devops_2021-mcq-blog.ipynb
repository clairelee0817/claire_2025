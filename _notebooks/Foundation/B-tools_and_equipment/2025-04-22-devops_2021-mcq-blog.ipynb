{
 "cells": [
  {
   "cell_type": "markdown",
   "id": "2cce949c",
   "metadata": {},
   "source": [
    "---\n",
    "layout: post\n",
    "title: 2021 Practice Exam MCQ blog\n",
    "permalink: /2021mcqblog/"
   ]
  },
  {
   "cell_type": "markdown",
   "id": "861e0272",
   "metadata": {},
   "source": [
    "# Growth\n",
    "Since the last MCQ (2020 Practice Exam MCQ), I improved ~13%, going from 45/67 (~67%) on the 2020 MCQ to 56/70 (80%) on the 2021 MCQ. <br>\n",
    "\n",
    "![Image](https://github.com/user-attachments/assets/71a5b6f7-6ffd-4faf-8c1d-10a727bbba54) <br>\n",
    "![Image](https://github.com/user-attachments/assets/2cbc225a-b3ce-4162-a45c-82f95a54c7ac) <br>\n",
    "![Image](https://github.com/user-attachments/assets/8fc0ed92-a2dd-41eb-b5eb-7d5901cb0f81) <br>"
   ]
  },
  {
   "cell_type": "markdown",
   "id": "13283809",
   "metadata": {},
   "source": [
    "# Corrections\n",
    "\n",
    "- **Q7 Move piece on game board**: *My Answer - Answer D* <br>\n",
    "Incorrect. The counter is incremented once for each time the game piece moves. The game piece makes four moves before ending in the red space. <br>\n",
    "- **Q14 Error in isIncreasing procedure**: *My Answer - Answer B* <br>\n",
    "Incorrect. By making this change, the procedure will immediately return true any time it encounters a value that is greater than or equal to the preceding value. It will not check any subsequent values in the list.\n",
    "- **Q16 Consequence of using Creative Commons**: *My Answer - Answer D* <br>\n",
    "Incorrect. Publishing an e-book with a no-rights-reserved Creative Commons license enables people to freely make use of its content.\n",
    "- **Q20 Effect of limited bandwidth**: *My Answer - Answer A* <br>\n",
    "Incorrect. Limiting the bandwidth of a connection is likely to increase the amount of time it takes to send and receive files.\n",
    "- **Q23 True statement about the Internet**: *My Answer - Answer A* <br> \n",
    "Incorrect. The Internet uses standardized, open (nonproprietary) communication protocols.\n",
    "- **Q39 Number of bits needed for item inventory**: *My Answer - Answer A* <br>\n",
    "Incorrect. Using 5 bits will only allow for up to 32 sequences because 2^5 = 32. \n",
    "- **Q42 Iterate over integerList**: *My Answer - Answer B* <br>\n",
    "Incorrect. This result would be displayed if the code segment counted the number of even values in the list rather than the number of odd values.\n",
    "- **Q48 Use of a rogue access point**: *My Answer - Answer B* <br>\n",
    "Incorrect. While disconnecting a router can be disruptive to users, it does not allow unauthorized individuals to intercept information transmitted on a network.\n",
    "- **Q56 Combine data sources**: *My Answer - Answer B* <br>\n",
    "Incorrect. The desired information cannot be determined with these two spreadsheets because students who play a single sport cannot be identified.\n",
    "- **Q57 Minimize execution time using parallel processing**: *My Answer - Answer B* <br>\n",
    "Incorrect. Running processes P and R on one processor will take a total of 50 seconds. Running processes Q and S on the other processor will take a total of 25 seconds. With the processors running in parallel, this solution will take 50 seconds; the optimal solution takes only 40 seconds.\n",
    "- **Q63 Boolean expression equivalent to table**: *My Answers - Answer B and D* <br>\n",
    "Answer B: Incorrect. For example,when input1 is true and input2 is false, then (NOT input1) will be false and (NOT input2) will be true. Therefore, (NOT input1) AND (NOT input2) will be false instead of the intended value true.\n",
    "- **Q64 Error in ageGroup procedure**: *My Answers - Answers A and C* <br>\n",
    "Answer A: Incorrect. This line should not be removed. The variable result is assigned the value \"adult\" by default and then assigned the value \"senior citizen\" or \"minor\" only when appropriate.\n",
    "- **Q65 Hot and humid conditionals**: *My Answers - Answers C and D* <br>\n",
    "Answer D: Incorrect. Since hot AND humid evaluates to false, the body of the IF statement is not executed, and nothing is displayed.\n",
    "- **Q68 Error in remove duplicates code segment**: *My Answers - Answers C and D* <br>\n",
    "Answer D: Incorrect. The code segment will iterate over myList from right to left, removing the all elements but the first. This results in the list [50], which contains no duplicates, as intended.\n"
   ]
  }
 ],
 "metadata": {
  "language_info": {
   "name": "python"
  }
 },
 "nbformat": 4,
 "nbformat_minor": 5
}
