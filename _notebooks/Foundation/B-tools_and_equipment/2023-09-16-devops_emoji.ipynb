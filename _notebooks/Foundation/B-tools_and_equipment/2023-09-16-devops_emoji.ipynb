{
 "cells": [
  {
   "cell_type": "raw",
   "metadata": {},
   "source": [
    "---\n",
    "layout: post\n",
    "title: Tools Play using JavaScript\n",
    "description: JavaScript, HTML, CSS and Markdown are the primary coding languages used by bloggers when developing in the GitHub Pages system. Student developers can learn functionality while adding functionality to their GitHub pages website.\n",
    "categories: [DevOps, JavaScript]\n",
    "permalink: /devops/github/pages/play\n",
    "menu: nav/tools_setup.html\n",
    "toc: true\n",
    "comments: true\n",
    "---"
   ]
  },
  {
   "cell_type": "code",
   "execution_count": null,
   "metadata": {},
   "outputs": [],
   "source": [
    "from emoji import emojize \n",
    "print(emojize(\":thumbs_up: Python is awesome! :grinning_face:\"))"
   ]
  }
 ],
 "metadata": {
  "language_info": {
   "name": "python"
  }
 },
 "nbformat": 4,
 "nbformat_minor": 2
}
