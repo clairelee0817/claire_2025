{
 "cells": [
  {
   "cell_type": "markdown",
   "metadata": {},
   "source": [
    "---\n",
    "layout: post\n",
    "title: BI 5 Crowdsourcing in Computing\n",
    "permalink: /crowdsourcingincomputing/\n",
    "---"
   ]
  },
  {
   "cell_type": "markdown",
   "metadata": {},
   "source": [
    "**Mango Review**: 10/10\n",
    "Crowdsourcing is a method of gathering contributions from a large group of people (typically over the internet to solve problems, generate data, and complete complex tasks)."
   ]
  },
  {
   "cell_type": "markdown",
   "metadata": {},
   "source": [
    "### Examples\n",
    "- Spotify playlists (Pros: diverse, Cons: lack of control)\n",
    "- Wikipedia (Pros: free knowledge, Cons: can be biased)\n",
    "\n",
    "**Gamers were utilized to try and help scientists with a medical breakthrough.**"
   ]
  },
  {
   "cell_type": "markdown",
   "metadata": {},
   "source": [
    "## Types\n",
    "- Wisdom of the Crowd: collective opinion of group utlized for decision-making\n",
    "- Crowd Voting: users vote on the best options from multiple choices\n",
    "- Crowd Creation: companies ask users to create ideas\n",
    "- Crowdfunding: funds for projects, programs, etc. "
   ]
  },
  {
   "cell_type": "markdown",
   "metadata": {},
   "source": [
    "### Popcorn Hack #1\n",
    "When I'm creating a presentation to present in front of the class for a grade, I will check with family and friends to receive feedback on its aesthetic appeal, organization, as well as my speaker skills. Then, I will apply their feedback, therefore improving my presentation. "
   ]
  },
  {
   "cell_type": "markdown",
   "metadata": {},
   "source": [
    "### Popcorn Hack #2\n",
    "Crowdsourcing can be unreliable due to the bias and lack of professional opinion that can result. Since crowdsourcing utilizes the general public for their opinion, many people will have biased feedback or provide lackluster opinions that don't relate with the issue being assessed. "
   ]
  },
  {
   "cell_type": "markdown",
   "metadata": {},
   "source": [
    "### Popcorn Hack #3\n",
    "On McDonald's official website, they have a customer feedback section where customers can fill out their information and provide feedback about issues that they believe need to be fixed, or helpful features they believe should be praised and highlighted. "
   ]
  },
  {
   "cell_type": "markdown",
   "metadata": {},
   "source": [
    "### Homework Hack\n",
    "\n",
    "**Pop Songs**: \n",
    "- California Girls by Katy Perry\n",
    "- 24K Magic by Bruno Mars\n",
    "\n",
    "**How can Crowdsourcing affect the class playlist?**\n",
    "- Pros: With more people providing songs, there will be a mix of diverse song options and angles of music that some may be new to.\n",
    "- Cons: Since the songs are limitted to one genre, the class may have multiple of the same songs, decreasing diversity. "
   ]
  }
 ],
 "metadata": {
  "language_info": {
   "name": "python"
  }
 },
 "nbformat": 4,
 "nbformat_minor": 2
}
