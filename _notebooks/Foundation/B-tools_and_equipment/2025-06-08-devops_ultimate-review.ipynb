{
 "cells": [
  {
   "cell_type": "markdown",
   "id": "335f7851",
   "metadata": {},
   "source": [
    "---\n",
    "layout: post\n",
    "title: Ultimate Review\n",
    "permalink: /ultimatereview/\n",
    "---"
   ]
  },
  {
   "cell_type": "markdown",
   "id": "780c953d",
   "metadata": {},
   "source": [
    "# Projects"
   ]
  },
  {
   "cell_type": "markdown",
   "id": "b1132362",
   "metadata": {},
   "source": [
    "## Restaurant Reviews\n",
    "<a href=\"https://prajnar123123213.github.io/restaurant_frontend/\" class=\"button\">\n",
    "    <button>\n",
    "    Restaurant Reviews\n",
    "    </button>\n",
    "</a>"
   ]
  },
  {
   "cell_type": "markdown",
   "id": "da2c8781",
   "metadata": {},
   "source": [
    "**Overview**: a media cultivating website that allows for communication throughout the world's foodies. Offers opportunities to review restaurants, try out new recipes, and locate new places to go in selected continents. \n",
    "**What I Contributed:**<br>\n",
    "- As a Frontend/UX Engineer: created homepage and formatting for pages\n",
    "- As a Scrummer: created and tested API endpoints, tested the SQLite database\n",
    "- As a Backend Engineer: aided in deployment process on AWS"
   ]
  },
  {
   "cell_type": "markdown",
   "id": "29bf75db",
   "metadata": {},
   "source": [
    "## Legoland Media\n",
    "<a href=\"https://open-coding-society.github.io/healthmedia/\" class=\"button\">\n",
    "    <button>\n",
    "    Legoland Media \n",
    "    </button>\n",
    "</a>"
   ]
  },
  {
   "cell_type": "markdown",
   "id": "87da0ec2",
   "metadata": {},
   "source": [
    "**Overview**: a media enhancing website meant to improve the engagement on Legoland's media platforms. This project is based solely on Instagram, using AI models coded with previous data to analyze inputs and deliver an output of analysis along with feedback. \n",
    "**What I Contributed**: <br>\n",
    "- As a Frontend/UX Engineer: organized the headers and title, organized overall design of the website\n",
    "- As a Scrummer: created the photo analysis feature, aided in the other features\n",
    "- As a Backend Engineer: helped develop AWS deployment process, utilized Flask APIs"
   ]
  },
  {
   "cell_type": "markdown",
   "id": "e45cbdeb",
   "metadata": {},
   "source": [
    "# Homework Success\n",
    "<a href=\"{{site.baseurl}}/\" class=\"button\">\n",
    "    <button>\n",
    "    Homework Lessons\n",
    "    </button>\n",
    "</a>"
   ]
  },
  {
   "cell_type": "markdown",
   "id": "a0e141d6",
   "metadata": {},
   "source": [
    "## Big Idea 1: Creative Development\n",
    "\n",
    "My homework often required me to design programs from scratch, brainstorm creative solutions, and reflect on my development process. For example, when I created a simple interactive app or designed a custom algorithm for a school project, I practiced **planning, testing, and iterating**—skills that mirrored the **Create Performance Task (PT)**. This helped me feel confident writing about program purpose, function, and abstraction on the exam. <br>\n",
    "\n",
    "\n",
    "## Big Idea 2: Data\n",
    "\n",
    "In several assignments, I collected and analyzed datasets, like CSV files with image metadata or survey results. These experiences gave me hands-on practice with **data filtering, visualization, and interpretation**. By working with real-world data, I understood the importance of data bias, cleaning, and ethics—core concepts tested in multiple-choice questions. <br>\n",
    "\n",
    "---\n",
    "\n",
    "## Big Idea 3: Algorithms and Programming\n",
    "\n",
    "Practicing coding exercises in Python or JavaScript helped me internalize logic, conditionals, loops, and functions. I also learned to break down problems into **step-by-step algorithms**, debug effectively, and understand how different components interact in a program. These skills were essential for **answering code-trace questions and explaining code segments** on the exam. <br>\n",
    "\n",
    "---\n",
    "\n",
    "## Big Idea 4: Computing Systems and Networks\n",
    "\n",
    "In one unit, I explored how the internet works, including topics like **IP addresses, DNS, and data transmission**. Through homework simulations and short write-ups, I developed a clearer understanding of protocols and security. This gave me the background to answer questions about **internet reliability, scalability, and cybersecurity** with confidence. <br>\n",
    "\n",
    "---\n",
    "\n",
    "## Big Idea 5: Impact of Computing\n",
    "\n",
    "Several reflective assignments asked me to consider the ethical and societal impacts of technology. By writing about how computing innovations affect privacy, access, and culture, I practiced articulating thoughtful responses—just like the exam's questions on **computing's global and social impact**. <br>"
   ]
  },
  {
   "cell_type": "markdown",
   "id": "20dfc087",
   "metadata": {},
   "source": [
    "# Showcases\n",
    "<a href=\"https://github.com/clairelee0817/claire_2025/issues/33\" class=\"button\">\n",
    "    <button>\n",
    "    N@tM Photos \n",
    "    </button>\n",
    "</a>"
   ]
  },
  {
   "cell_type": "markdown",
   "id": "3fc2e446",
   "metadata": {},
   "source": [
    "## N@tM Trimester 2\n",
    "In this exhibition, this was my very first exhibition related to computer science, and I presented at the Night at the Museum event alongside my team. It was a very endulging experience, with many interested individuals learning about our website through our explanations. <br>\n",
    "- Explained the purpose and functionality of the website\n",
    "- Entailed the Reviews sections\n",
    "- Let users test their own input"
   ]
  },
  {
   "cell_type": "markdown",
   "id": "b492eb33",
   "metadata": {},
   "source": [
    "## N@tM Trimester 3 \n",
    "In the most recent exhibition, I had a little more experience now than I did before, so I explained a lot more. The alloted time slot was also twice as long, so I was able to talk to many different people who were interested. Due to the more advanced logistics of the program, more people were impressed, especially our usage and incorporation of AI. <br>\n",
    "- Entailed my photo analysis feature\n",
    "- Showcased sample input\n",
    "- Explained to four different people about the backend"
   ]
  }
 ],
 "metadata": {
  "language_info": {
   "name": "python"
  }
 },
 "nbformat": 4,
 "nbformat_minor": 5
}
