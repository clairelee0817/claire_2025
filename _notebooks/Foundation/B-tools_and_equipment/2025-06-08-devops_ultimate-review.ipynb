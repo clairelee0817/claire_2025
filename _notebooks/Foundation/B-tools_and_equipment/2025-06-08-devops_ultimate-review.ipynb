{
 "cells": [
  {
   "cell_type": "markdown",
   "id": "335f7851",
   "metadata": {},
   "source": [
    "---\n",
    "layout: post\n",
    "title: Ultimate Review\n",
    "permalink: /ultimatereview/\n",
    "---"
   ]
  },
  {
   "cell_type": "markdown",
   "id": "780c953d",
   "metadata": {},
   "source": [
    "# Projects"
   ]
  },
  {
   "cell_type": "markdown",
   "id": "b1132362",
   "metadata": {},
   "source": [
    "## Restaurant Reviews\n",
    "<a href=\"https://prajnar123123213.github.io/restaurant_frontend/\" class=\"button\">\n",
    "    <button>\n",
    "    Restaurant Reviews\n",
    "    </button>\n",
    "</a>"
   ]
  },
  {
   "cell_type": "markdown",
   "id": "da2c8781",
   "metadata": {},
   "source": [
    "**Overview**: a media cultivating website that allows for communication throughout the world's foodies. Offers opportunities to review restaurants, try out new recipes, and locate new places to go in selected continents. <br>\n",
    "- As a Frontend/UX Engineer: created homepage and formatting for pages\n",
    "- As a Scrummer: created and tested API endpoints, tested the SQLite database\n",
    "- As a Backend Engineer: aided in deployment process on AWS"
   ]
  },
  {
   "cell_type": "markdown",
   "id": "29bf75db",
   "metadata": {},
   "source": [
    "## Legoland Media\n",
    "<a href=\"https://open-coding-society.github.io/healthmedia/\" class=\"button\">\n",
    "    <button>\n",
    "    Legoland Media \n",
    "    </button>\n",
    "</a>"
   ]
  },
  {
   "cell_type": "markdown",
   "id": "87da0ec2",
   "metadata": {},
   "source": [
    "**Overview**: a media enhancing website meant to improve the engagement on Legoland's media platforms. This project is based solely on Instagram, using AI models coded with previous data to analyze inputs and deliver an output of analysis along with feedback. <br>\n",
    "- As a Frontend/UX Engineer: organized the headers and title, organized overall design of the website\n",
    "- As a Scrummer: created the photo analysis feature, aided in the other features\n",
    "- As a Backend Engineer: helped develop AWS deployment process, utilized Flask APIs"
   ]
  },
  {
   "cell_type": "markdown",
   "id": "d356661c",
   "metadata": {},
   "source": [
    "## REC Foundation Aerial Drone Competition\n",
    "**Overview**: a competition that test participants' piloting and programming skills with provided drones. \n",
    "- As a Scrummer: practiced piloting over series of group meetings\n",
    "- As a Programmer: aided in programming drone's pathway through designated path using Python"
   ]
  },
  {
   "cell_type": "markdown",
   "id": "e45cbdeb",
   "metadata": {},
   "source": [
    "# Homework Success\n",
    "<a href=\"{{site.baseurl}}/\" class=\"button\">\n",
    "    <button>\n",
    "    Homework Lessons\n",
    "    </button>\n",
    "</a>"
   ]
  },
  {
   "cell_type": "markdown",
   "id": "873ddda0",
   "metadata": {},
   "source": [
    "## Certificates\n",
    "1. Pilot City Award of Excellence (Top 5) by Derrick Lee <br>\n",
    "Along with my team, I received a Pilot City award from Derrick, who expressed his interest in our ideas and usage of AI models. Awarded for being in Derrick's Top 5 picks during his visit. "
   ]
  },
  {
   "cell_type": "markdown",
   "id": "a0e141d6",
   "metadata": {},
   "source": [
    "## Big Idea 1: Creative Development\n",
    "- Designed programs from scratch and brainstormed creative solutions.\n",
    "- Practiced **planning, testing, and iterating** through apps and custom algorithms.\n",
    "- Built confidence writing about **program purpose, function, and abstraction** for the Create PT and exam.\n",
    "\n",
    "## Big Idea 2: Data\n",
    "- Collected and analyzed real-world datasets (e.g., CSV files, surveys).\n",
    "- Practiced **data filtering, visualization, and interpretation**.\n",
    "- Understood key concepts like **data bias, cleaning, and ethics** for the multiple-choice section.\n",
    "\n",
    "## Big Idea 3: Algorithms and Programming\n",
    "- Strengthened coding skills in Python and JavaScript.\n",
    "- Learned to build and debug **step-by-step algorithms** using loops, conditionals, and functions.\n",
    "- Prepared for questions on **code tracing and explaining program logic**.\n",
    "\n",
    "## Big Idea 4: Computing Systems and Networks\n",
    "- Explored how the internet works (e.g., **IP, DNS, data transmission**).\n",
    "- Completed simulations and write-ups on protocols and security.\n",
    "- Developed confidence answering questions on **internet reliability, scalability, and cybersecurity**.\n",
    "\n",
    "## Big Idea 5: Impact of Computing\n",
    "- Reflected on the **ethical and societal impacts** of computing innovations.\n",
    "- Wrote about topics like **privacy, access, and cultural effects** of technology.\n",
    "- Practiced articulating thoughtful responses for **global and social impact** exam questions."
   ]
  },
  {
   "cell_type": "markdown",
   "id": "20dfc087",
   "metadata": {},
   "source": [
    "# Showcases\n",
    "<a href=\"https://github.com/clairelee0817/claire_2025/issues/33\" class=\"button\">\n",
    "    <button>\n",
    "    N@tM Photos \n",
    "    </button>\n",
    "</a>"
   ]
  },
  {
   "cell_type": "markdown",
   "id": "3fc2e446",
   "metadata": {},
   "source": [
    "## N@tM Trimester 2\n",
    "In this exhibition, this was my very first exhibition related to computer science, and I presented at the Night at the Museum event alongside my team. It was a very endulging experience, with many interested individuals learning about our website through our explanations. <br>\n",
    "- Explained the purpose and functionality of the website\n",
    "- Entailed the Reviews sections\n",
    "- Let users test their own input\n",
    "\n",
    "### Skills\n",
    "- Networking\n",
    "- Advertising"
   ]
  },
  {
   "cell_type": "markdown",
   "id": "b492eb33",
   "metadata": {},
   "source": [
    "## N@tM Trimester 3 \n",
    "In the most recent exhibition, I had a little more experience now than I did before, so I explained a lot more. The alloted time slot was also twice as long, so I was able to talk to many different people who were interested. Due to the more advanced logistics of the program, more people were impressed, especially our usage and incorporation of AI. <br>\n",
    "- Entailed my photo analysis feature\n",
    "- Showcased sample input\n",
    "- Explained to four different people about the backend\n",
    "\n",
    "### Skills\n",
    "- Networking \n",
    "- Advertising\n",
    "- Pitching"
   ]
  },
  {
   "cell_type": "markdown",
   "id": "9a803f3b",
   "metadata": {},
   "source": [
    "# Final Reflection\n",
    "- For the projects, my whole team and I plan to move forward with it in the Pilot City internship. \n",
    "- For myself, I've gained programming skills of Python, JS, HTML, and CSS."
   ]
  }
 ],
 "metadata": {
  "language_info": {
   "name": "python"
  }
 },
 "nbformat": 4,
 "nbformat_minor": 5
}
