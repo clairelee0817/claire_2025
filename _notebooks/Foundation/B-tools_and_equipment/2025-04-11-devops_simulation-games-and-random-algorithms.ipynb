{
 "cells": [
  {
   "cell_type": "markdown",
   "id": "996f339f",
   "metadata": {},
   "source": [
    "---\n",
    "layout: post\n",
    "title: BI 4 Simulations and Random Algorithms\n",
    "permalink: /simulationsandrandomalgorithms/\n",
    "---"
   ]
  },
  {
   "cell_type": "markdown",
   "id": "8e1e86bc",
   "metadata": {},
   "source": [
    "# Random Algorithms"
   ]
  },
  {
   "cell_type": "markdown",
   "id": "975f9a9c",
   "metadata": {},
   "source": [
    "## Popcorn Hacks"
   ]
  },
  {
   "cell_type": "markdown",
   "id": "05d4a5bf",
   "metadata": {},
   "source": [
    "### Popcorn Hack 1: Brainstorm\n",
    "**What do you think a random algorithm is? What would be reason to use random algorithms in real-life coding situations? What kind of questions do you think College Board will ask regarding Random Algorithms?**<br>\n",
    "A random algorithm analyzes a list and picks a random option from that list. In a video game software, for example, to create an element of unpredictability, random algorithm can be implemented to simulate a dice roll or a card shuffle depending on what the game needs. College Board will probably ask about Missing Code segments in random algorithms and what needs to be inside. "
   ]
  },
  {
   "cell_type": "markdown",
   "id": "81275661",
   "metadata": {},
   "source": [
    "### Popcorn Hack 2"
   ]
  },
  {
   "cell_type": "code",
   "execution_count": null,
   "id": "2d41f8d2",
   "metadata": {},
   "outputs": [
    {
     "name": "stdout",
     "output_type": "stream",
     "text": [
      "Today’s random activity: Do homework\n"
     ]
    }
   ],
   "source": [
    "# Popcorn Hack Number 2 (Random): Make a random algorithm to choose a daily activity:\n",
    "import random\n",
    "# Step 1: Define a list of activities\n",
    "activities = ['Play with dogs', 'Do homework', 'Hang out with friends', 'Go to the gym', 'Go out to dinner', 'Sleep', 'Go for a run', 'Bake something', 'Submit internship applications']\n",
    "# Step 2: Randomly choose an activity\n",
    "random_activity = random.choice(activities)\n",
    "# Step 3: Display the chosen activity\n",
    "print(f\"Today’s random activity: {random_activity}\")"
   ]
  },
  {
   "cell_type": "markdown",
   "id": "19cdec3e",
   "metadata": {},
   "source": [
    "### Popcorn Hack 3"
   ]
  },
  {
   "cell_type": "code",
   "execution_count": 2,
   "id": "c998abe3",
   "metadata": {},
   "outputs": [
    {
     "name": "stdout",
     "output_type": "stream",
     "text": [
      "Claire will be monitoring drinks!\n",
      "Mihir will be monitoring code, code, code!\n",
      "Travis will be monitoring food!\n"
     ]
    }
   ],
   "source": [
    "# Popcorn Hack Number 3: Using a loops in random\n",
    "# This popcorn hack assigns an activity to each person\n",
    "import random\n",
    "hosts = ['Claire', 'Mihir', 'Travis']\n",
    "activities = ['code, code, code', 'food', 'drinks']\n",
    "# Randomly shuffle the list of activities to assign them randomly to the guests\n",
    "random.shuffle(activities)\n",
    "# Loop through each guest and assign them a random activity\n",
    "for i in range(len(hosts)):\n",
    "    print(f\"{hosts[i]} will be monitoring {activities[i]}!\")"
   ]
  },
  {
   "cell_type": "markdown",
   "id": "67d9b5ef",
   "metadata": {},
   "source": [
    "# Simulations"
   ]
  },
  {
   "cell_type": "markdown",
   "id": "04423683",
   "metadata": {},
   "source": [
    "## Popcorn Hacks"
   ]
  },
  {
   "cell_type": "markdown",
   "id": "bf863284",
   "metadata": {},
   "source": [
    "### Popcorn Hack 1"
   ]
  },
  {
   "cell_type": "code",
   "execution_count": 3,
   "id": "9f13cb65",
   "metadata": {},
   "outputs": [
    {
     "name": "stdout",
     "output_type": "stream",
     "text": [
      "Number: 2\n"
     ]
    }
   ],
   "source": [
    "import random\n",
    "\n",
    "def number_spinner():\n",
    "    return random.randint(1, 10)\n",
    "\n",
    "number = number_spinner()\n",
    "print(\"Number:\", number)"
   ]
  },
  {
   "cell_type": "markdown",
   "id": "7ae2b7a7",
   "metadata": {},
   "source": [
    "### Popcorn Hack 2"
   ]
  },
  {
   "cell_type": "code",
   "execution_count": 8,
   "id": "e20dd7c0",
   "metadata": {},
   "outputs": [
    {
     "name": "stdout",
     "output_type": "stream",
     "text": [
      "Computer chose: paper\n",
      "You chose: rock\n",
      "You lose!\n"
     ]
    }
   ],
   "source": [
    "import random\n",
    "\n",
    "def play_rock_paper_scissors():\n",
    "    choices = ['rock', 'paper', 'scissors']\n",
    "    computer_choice = random.choice(choices)\n",
    "    user_choice = input(\"Enter your choice (rock, paper, or scissors): \")\n",
    "\n",
    "    if user_choice not in choices:\n",
    "        print(\"Invalid choice. Please try again.\")\n",
    "        return\n",
    "\n",
    "    print(\"Computer chose:\", computer_choice)\n",
    "    print(\"You chose:\", user_choice)\n",
    "\n",
    "    if user_choice == computer_choice:\n",
    "        print(\"It's a tie!\")\n",
    "    elif (user_choice == 'rock' and computer_choice == 'scissors') or (user_choice == 'paper' and computer_choice == 'rock') or (user_choice == 'scissors' and computer_choice == 'paper'):\n",
    "        print(\"You win!\")\n",
    "    else:\n",
    "        print(\"You lose!\")\n",
    "\n",
    "play_rock_paper_scissors()"
   ]
  },
  {
   "cell_type": "markdown",
   "id": "8d3ff10b",
   "metadata": {},
   "source": [
    "**Output**<br>\n",
    "1. Computer - scissors, Me - paper: I lose\n",
    "2. Computer - paper, Me - paper: It's a tie\n",
    "3. Computer - paper, Me - rock: I lose"
   ]
  },
  {
   "cell_type": "markdown",
   "id": "87009532",
   "metadata": {},
   "source": [
    "# Homework Hacks"
   ]
  },
  {
   "cell_type": "markdown",
   "id": "20c94fb1",
   "metadata": {},
   "source": [
    "## Random Algorithms"
   ]
  },
  {
   "cell_type": "markdown",
   "id": "8fcc9e14",
   "metadata": {},
   "source": [
    "### Homework Hack 1"
   ]
  },
  {
   "cell_type": "markdown",
   "id": "6a281b23",
   "metadata": {},
   "source": [
    "**Objective**: Randomly assign students to teams for a group project. <br>\n",
    "**Task**: You are given a list of 15 students.\n",
    "The goal is to randomly assign each student to one of 3 teams (be creative with the names)\n",
    "Implement the random assignment:\n",
    "Randomly assign each student to a team\n",
    "Print out the list of students and their assigned teams."
   ]
  },
  {
   "cell_type": "code",
   "execution_count": 10,
   "id": "261dc491",
   "metadata": {},
   "outputs": [
    {
     "name": "stdout",
     "output_type": "stream",
     "text": [
      "\n",
      "Giggle Gang:\n",
      " - Beau\n",
      " - Dasom\n",
      " - Mickey\n",
      " - Nicholas\n",
      " - Leo\n",
      "\n",
      "Tickle Team:\n",
      " - Hannah\n",
      " - Evelyn\n",
      " - Aadya\n",
      " - Kayla\n",
      " - Minnie\n",
      "\n",
      "Buff Buddies:\n",
      " - Goofey\n",
      " - Ryan\n",
      " - Jessica\n",
      " - Claire\n",
      " - Katelyn\n"
     ]
    }
   ],
   "source": [
    "import random \n",
    "\n",
    "students = ['Claire', 'Evelyn', 'Ryan', 'Jessica', 'Nicholas', 'Leo', 'Beau', 'Hannah', 'Katelyn', \n",
    "            'Kayla', 'Aadya', 'Dasom', 'Mickey', 'Minnie', 'Goofey']\n",
    "\n",
    "teams = ['Giggle Gang', 'Tickle Team', 'Buff Buddies']\n",
    "\n",
    "# Shuffle the students for random assignment\n",
    "random.shuffle(students)\n",
    "\n",
    "# Create a dictionary to store team assignments\n",
    "team_assignments = {\n",
    "    'Giggle Gang': [],\n",
    "    'Tickle Team': [],\n",
    "    'Buff Buddies': []\n",
    "}\n",
    "\n",
    "# Assign students to teams in a round-robin way\n",
    "for i, student in enumerate(students):\n",
    "    team = teams[i % 3]\n",
    "    team_assignments[team].append(student)\n",
    "\n",
    "# Print out the assignments\n",
    "for team, members in team_assignments.items():\n",
    "    print(f\"\\n{team}:\")\n",
    "    for member in members:\n",
    "        print(f\" - {member}\")\n"
   ]
  },
  {
   "cell_type": "markdown",
   "id": "6d1e82a2",
   "metadata": {},
   "source": [
    "### Homework Hack 2"
   ]
  },
  {
   "cell_type": "markdown",
   "id": "911b8a5a",
   "metadata": {},
   "source": [
    "**Objective**: Generate random weather patterns over a set number of days. <br>\n",
    "**Task**: You’re simulating the weather for a 7-day forecast.\n",
    "The weather each day can be one of three options: Sunny, Cloudy, or Rainy.\n",
    "Write a program randomly selecting the weather type for each of the 7 days.\n",
    "Print the weather for each day"
   ]
  },
  {
   "cell_type": "code",
   "execution_count": 15,
   "id": "3e0e6b62",
   "metadata": {},
   "outputs": [
    {
     "name": "stdout",
     "output_type": "stream",
     "text": [
      "7-Day Weather Forecast:\n",
      "Sunday: Cloudy\n",
      "Monday: Sunny\n",
      "Tuesday: Rainy\n",
      "Wednesday: Rainy\n",
      "Thursday: Rainy\n",
      "Friday: Sunny\n",
      "Saturday: Cloudy\n"
     ]
    }
   ],
   "source": [
    "import random\n",
    "\n",
    "weather = ['Sunny', 'Cloudy', 'Rainy']\n",
    "days = ['Sunday', 'Monday', 'Tuesday', 'Wednesday', 'Thursday', 'Friday', 'Saturday']\n",
    "\n",
    "print(\"7-Day Weather Forecast:\")\n",
    "for day in days:\n",
    "    forecast = random.choice(weather)\n",
    "    print(f\"{day}: {forecast}\")"
   ]
  },
  {
   "cell_type": "markdown",
   "id": "ff820a12",
   "metadata": {},
   "source": [
    "## Simulations"
   ]
  },
  {
   "cell_type": "markdown",
   "id": "7a8d9000",
   "metadata": {},
   "source": [
    "### Homework Hack 1"
   ]
  },
  {
   "cell_type": "markdown",
   "id": "08f8fd34",
   "metadata": {},
   "source": [
    "**Objective**: Simulate a random coffee shop queue and determine how long it takes for customers to get served. <br>\n",
    "**Task**: Simulate a coffee shop with 5 customers. Each customer has a random service time (between 1 and 5 minutes). The coffee shop serves customers in the order they arrive. Calculate and print the total time it takes for all 5 customers to be served."
   ]
  },
  {
   "cell_type": "code",
   "execution_count": null,
   "id": "88defb04",
   "metadata": {},
   "outputs": [
    {
     "name": "stdout",
     "output_type": "stream",
     "text": [
      "Coffee Shop Queue:\n",
      "\n",
      "Claire: Service time = 3 minutes\n",
      "Evie: Service time = 3 minutes\n",
      "Chiikawa: Service time = 4 minutes\n",
      "Julia: Service time = 1 minutes\n",
      "Hannah: Service time = 3 minutes\n",
      "\n",
      "Total time to serve all customers: 14 minutes\n"
     ]
    }
   ],
   "source": [
    "import random\n",
    "\n",
    "def coffee_shop_queue():\n",
    "    customers = ['Claire', 'Julia', 'Hannah', 'Evie', 'Chiikawa']\n",
    "    random.shuffle(customers)\n",
    "    \n",
    "    print(\"Coffee Shop Queue:\\n\")\n",
    "    \n",
    "    total_time = 0\n",
    "    for customer in customers:\n",
    "        service_time = random.randint(1, 5)\n",
    "        print(f\"{customer}: Service time = {service_time} minutes\")\n",
    "        total_time += service_time\n",
    "\n",
    "    print(f\"\\nTotal time to serve all customers: {total_time} minutes\")\n",
    "\n",
    "coffee_shop_queue()"
   ]
  }
 ],
 "metadata": {
  "kernelspec": {
   "display_name": "venv",
   "language": "python",
   "name": "python3"
  },
  "language_info": {
   "codemirror_mode": {
    "name": "ipython",
    "version": 3
   },
   "file_extension": ".py",
   "mimetype": "text/x-python",
   "name": "python",
   "nbconvert_exporter": "python",
   "pygments_lexer": "ipython3",
   "version": "3.12.3"
  }
 },
 "nbformat": 4,
 "nbformat_minor": 5
}
