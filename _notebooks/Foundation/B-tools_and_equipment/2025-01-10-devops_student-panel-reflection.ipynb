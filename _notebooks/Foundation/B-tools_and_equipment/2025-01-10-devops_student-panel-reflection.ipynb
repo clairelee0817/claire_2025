{
 "cells": [
  {
   "cell_type": "markdown",
   "metadata": {},
   "source": [
    "---\n",
    "layout: post\n",
    "title: Student Panel Reflection\n",
    "permalink: /studentpanelreflection/\n",
    "---"
   ]
  },
  {
   "cell_type": "markdown",
   "metadata": {},
   "source": [
    "# What I Learned\n",
    "\n",
    "**Communication**\n",
    "Relying solely on improvement in technical skills and material will not help you thrive. In society, where many more people with the same or more skill in technique than you, your opinions and input is not going to simply be asked for. To truly succeed and push yourself, you must speak up and make sure that you are heard. Communication is an extremely valuable and helpful skill, especially in college settings where a lack of communication can cause much more severe consequences. To not communicate is not respectful for the other people who are supposedly communicating with, even more so if they are of important status, such as professors or alumni. You must always consider how a lack of communication might impress yourself onto people with life connections that could boost your career journey. \n",
    "\n",
    "**Technical Work Elements**\n",
    "In terms of the actual material and work, however, there are also some challenging aspects to it. Similarly to the importance of communication, your will to improve yourself and hone your technical skills are essential for success. Specifically in Computer Science, the course work is somewhat similar, still retaining Sprints and Scrums. The major difference is the higher demand for personal and original creativity. Often times, your ideas will stop flowing, and you may hit a creative block. Or, the tools that you're using are challenging to work with. One of the speakers recalled his personal program that he created within Kasm servers, which he said were difficult to deal with. Not only that, but the journey to nurture ideas can be tough. Different elements need to be added and connected together. To help with this, consider changing your mindset to be more friendly to small/minute ideas. Although they may seem small at first, they can grow into something if you continue to add more elements towards it. If you truly have no creative juice flowing, you could also visit GitHub and scroll through public repositories to gain inspiration. \n",
    "\n",
    "**College Applications**\n",
    "The two guest speakers were students who got accepted into very selective and amazing schools. Some thing that they both agreed on that helped improve their college applications was their reasoning of their community impact. One of the speakers goes to UCLA, and he remarks that the a major reason as to why he was accepted was his description of how one of his Kasm workspace projects helped high schools and college coaches get in touch, and help create more money and opportunities for his target audience. Creating projects and programs that improve society and impact its success are very impressive feats to do, which colleges will consider more deeply. A genuine interest and curiosity will also create a good impression for yourself. Colleges tend to search for passionate and talented individuals who have ambition and desire to learn more. \n",
    "\n",
    "**Advice to High Schoolers**\n",
    "At the moment, it may seem like every assignment, test, or project that you fail or struggle with is a huge stressor. However, long-term wise, you'll think back to yourself and wonder why you spent so much energy worrying. There are also many worries about which college you will be accepted into, and how it will affect your life. In the real world after college, though what college you get into does provide a boost, often times it won't matter. What you should focus on are strengthening support systems and keeping your social relationships thriving. \n",
    "\n"
   ]
  },
  {
   "cell_type": "markdown",
   "metadata": {},
   "source": [
    "# Reflection and Future Goals\n",
    "After listening to advice about what to prioritize most in your career life, it is not just scores or tests that you should focus on. It is a desire for improvement and a desire to make an impact. The way that both college students were passionate about giving out advice to newer generations goes to show that they're passionate to pass on their knowledge about life onto newer generations. \n",
    "\n",
    "I hope that in the future, I may also give advice to high schoolers about college or life aspects, and fuel my ambition to pursue my career. I also hope to enhance my communication skills and increase the number of times that I actually sit down and go through material I don't understand with teachers. \n",
    "\n",
    "Overall, the guest speakers provided really good advice, and I enjoyed hearing perspectives from college students who have already gone through a path that many have future worries about. "
   ]
  }
 ],
 "metadata": {
  "language_info": {
   "name": "python"
  }
 },
 "nbformat": 4,
 "nbformat_minor": 2
}
