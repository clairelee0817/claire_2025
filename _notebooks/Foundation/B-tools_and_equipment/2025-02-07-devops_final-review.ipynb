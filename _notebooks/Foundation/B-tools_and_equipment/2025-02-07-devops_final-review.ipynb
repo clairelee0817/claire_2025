{
 "cells": [
  {
   "cell_type": "markdown",
   "metadata": {},
   "source": [
    "---\n",
    "layout: post\n",
    "title: Final Review\n",
    "permalink: /finalreview/"
   ]
  },
  {
   "cell_type": "markdown",
   "metadata": {},
   "source": [
    "<a href=\"https://github.com/arshiadebroy/arshia_2025/issues/52\"> Burndown List </a> <br><br>"
   ]
  },
  {
   "cell_type": "markdown",
   "metadata": {},
   "source": [
    "## My Contributions \n",
    "1. Created the Figma board in our initial planning phase. <br>\n",
    "![Image](https://github.com/user-attachments/assets/23fa956c-d8a3-4289-878d-a6640ecfe2fa) <br><br>\n",
    "\n",
    "2. Researched popular tourist places in South America to showcase to users. <br><br>\n",
    "\n",
    "3. Improved frontend index page to direct users toward our features. <br><br>\n",
    "\n",
    "4. Designed continent layouts of frontend using colorful text, fonts, and transitions. <br>\n",
    "<a href=\"https://prajnar123123213.github.io/restaurant_frontend/\"> Home page </a> <br><br>\n",
    "\n",
    "5. Created API endpoints for different countries to connect the user input to the database. <br>"
   ]
  },
  {
   "cell_type": "code",
   "execution_count": null,
   "metadata": {},
   "outputs": [],
   "source": [
    "# Example\n",
    "argentina_api = Blueprint('argentina_api', __name__, url_prefix='/api')\n",
    "\n",
    "# API docs https://flask-restful.readthedocs.io/en/latest/api.html\n",
    "api = Api(argentina_api)\n",
    "\n",
    "class ArgentinaAPI:\n",
    "    @staticmethod\n",
    "    def get_restaurant(name):\n",
    "        restaurant = {\n",
    "            \"The Argentinian Experience\": {\n",
    "                \"name\": \"The Argentinian Experience\",\n",
    "                \"location\": \"Argentina\",\n",
    "            },\n",
    "            \"Mercado\": {\n",
    "                \"name\": \"Mercado de Liniers Restaurante\",\n",
    "                \"location\": \"Argentina\",\n",
    "            },\n",
    "            \n",
    "        }\n",
    "        return restaurant.get(name)\n",
    "\n",
    "    class _theArgentinianExperience(Resource):\n",
    "        def get(self):\n",
    "            # Use the helper method to get John's details\n",
    "            theargentinianexperience_details = ArgentinaAPI.get_restaurant(\"The Argentinian Experience\")\n",
    "            return jsonify(theargentinianexperience_details)\n",
    "\n",
    "    class _Mercado(Resource):\n",
    "        def get(self):\n",
    "            # Use the helper method to get Jeff's details\n",
    "            Mercado_details = ArgentinaAPI.get_restaurant(\"Mercado\")\n",
    "            return jsonify(Mercado_details)\n",
    "\n",
    "    class _Bulk(Resource):\n",
    "        def get(self):\n",
    "            # Use the helper method to get both John's and Jeff's details\n",
    "            theargentinianexperience_details = ArgentinaAPI.get_restaurant(\"The Argentinian Experience\")\n",
    "            Mercado_details = ArgentinaAPI.get_restaurant(\"Mercado\")\n",
    "            return jsonify({\"restaurant\": [theargentinianexperience_details, Mercado_details]})\n",
    "\n",
    "    # Building REST API endpoints\n",
    "    api.add_resource(_theArgentinianExperience, '/restaurant/theargentinianexperience')\n",
    "    api.add_resource(_Mercado, '/restaurant/mercado')\n",
    "    api.add_resource(_Bulk, '/restaurant')\n",
    "\n",
    "# Instantiate the StudentAPI to register the endpoints\n",
    "argentina_api_instance = ArgentinaAPI()"
   ]
  },
  {
   "cell_type": "markdown",
   "metadata": {},
   "source": [
    "## General Project Overview\n",
    "**CPT Requirements** <br>\n",
    "- Big Idea 1.4 Debugging Code and Fixing Errors (Frontend Debugging): Initially, I was confused how to fix the headers for the sites. I used the Inspect tool when attempting to figure out the style of the frontend that was off, such as the flooded headers. They made the website look tacky, and I was able to inspect and see that I just needed to change the site header qualities. <br>\n",
    "![Image](https://github.com/user-attachments/assets/f5f46a62-f610-47f4-a264-758c66e286a8) <br><br>\n",
    "\n",
    "- Big Idea 2 Data (Data Backup and Recovery): To ensure that our user data was safe, we implemented the db_init.py to initialize the database, db_restore.py to save and restore the data, and db_backup.py to bring back our data from deletion. This would make sure that data would not be lost if the database was deleted. <br><br>\n",
    "\n",
    "- Big Idea 4 Internet (Domain Name System (DNS)): For our wesbite, we received a DNS called starting with restaurant, related to our purpose. In this way, users would now have access to our website's features through searching our website. We also secured it during class with HTTPS, not just HTTP. However, later, the website wouldn't display when we searched for it online, and we realized that part of the issue was that in our backend, the pythonURI read http:// instead of https://. After discovering this, the website was able to initialize again. <br><br><br>\n",
    "\n",
    "**N@tM Experience/Feedback** <br>\n",
    "I showcased our website to many people and showed off our features, such as the posting and recipe finder feature. They all commented on how smooth the presentation looked and the interesting elements of the colors and design. I was also looking around the room and providing reviews for other teams, who all had very interesting projects; one had a game where you would control a character throughout a series of parkour games, and other was an application program designed to alleviate teacher workload by organizing school assignments (similar to Synergy). <br>\n",
    "![Image](https://github.com/user-attachments/assets/af093762-d450-4c2c-a39d-8b325676a9ba) <br>\n",
    "![Image](https://github.com/user-attachments/assets/4895ca08-6fb1-44e4-9024-9fd804fdab1d) <br>"
   ]
  },
  {
   "cell_type": "markdown",
   "metadata": {},
   "source": [
    "## Project Feature\n",
    "I worked on the South America maps by researching the top places that were popular in South America and putting maps from Google Maps. I first got the HTML link from the Google Maps location I wanted to pinpoint, and then put them into dividers using rows so that they would look organized. However, through this process, sometimes the format would suddenly jumble up and I would need to frontend debug with the Inspect function to find what I did wrong or if I incorrectly edited the style. Users can access each map by clicking on the map, inputing their request to navigate to a different page, where they'll result in a different page. The <iframe> tag allows for this.\n",
    "<a href=\"https://prajnar123123213.github.io/restaurant_frontend/rate_and_relate/flavor_fusion/\"> Explore page </a> "
   ]
  },
  {
   "cell_type": "markdown",
   "metadata": {},
   "source": [
    "## MCQ \n",
    "Overall, since the last MCQ, I improved my score from 38/66 (~58%) to 45/67 (~67%). I was able to go through the questions more thoroughly, which was an issue I had with the last MCQ. Previously, I had rushed through the answers instead of trying to go through each question carefully, which caused me not only to have a bad score but also little learning experience. Now, I spent, on average, 5-10 minutes on each question, and I was able to improve my score. <br><br>\n",
    "\n",
    "**Corrections** <br>\n",
    "Q2 - Citizen science with wildlife research: I chose the answer that did not reflect citizen science and focused more on individual science. Though I thought it was the most efficient answer, it did not incorporate group science elements. <br>\n",
    "\n",
    "Q10 - Science museum tickets: The procedure I chose did not consider the condition of people older than 12 AND going on a guided tour, therefore it wasn't functional. <br>\n",
    "\n",
    "Q14 - Print digits algorithm: The step that I included failed to consider the infite loop that would result since it will display the integer quotient 0 and store the remainder 2 infinitely. <br>\n",
    "\n",
    "Q15 - Compare output of program a and b: While I thought that out of the programs displayed, program B displayed one more value than program A, this is not the case. Both programs print ten values. <br>\n",
    "\n",
    "Q17 - Data represented by bit sequences: At the lowest level, all data is represented with sequences of bits. <br>\n",
    "\n",
    "Q20 - Average amount of data per user: Each value on the right line graph is roughly 10x the value on the left graph, not 100x. <br>\n",
    "\n",
    "Q22 - Simulate spinner: I incorrectly calculated the probabilities of each chance, therefore the procedure I picked is not correct. <br>\n",
    "\n",
    "Q27 - Existence of unsolvable problems: I incorrectly assumed that all problems that computers can solve require internet, but they don't. <br>\n",
    "\n",
    "Q28 - Swap alpha and beta: The code segment I chose would store both values of beta and alpha to an initial value of alpha, which would not allow for the variable temp to be interchanged. <br>\n",
    "\n",
    "Q34 - BotMover: I misunderstood what the code segment meant and assigned the wrong instructions. <br>\n",
    "\n",
    "Q37 - DrawLine on a coordinate grid: The lines would be drawn incorrectly. <br>\n",
    "\n",
    "Q39 - Error in calculating sum: The step I chose to change would cause the loop to terminate when i is 10, which would not fix the problem. <br>\n",
    "\n",
    "Q40 - Role of certificate authorities: The meaning of issuing certificate authorities is not password certificates, but digital certificates. <br>\n",
    "\n",
    "Q47 - Requirements for binary search: A binary serach will work on any sorted list even if it was duplicate values. <br>\n",
    "\n",
    "Q48 - Phishing scenario: The interception and deceitful analyzing can take place without the user providing personal information, therefore does not require phishing. <br>\n",
    "\n",
    "Q49 - Unique bit sequences for staff: Only 7 bits is the number that can allow for a unique bit sequence. <br>\n",
    "\n",
    "Q50 - Reasonable time algorithms: All algorithms have reasonable time since the maximum amount of elements that are gathered are n^2 elements. <br>\n",
    "\n",
    "Q54 - Copy even values from originalList to newList: The change I chose would add only odd elements instead of even elements. <br>\n",
    "\n",
    "Q58 - Error in AnyPairs procedure: This procedure returns the intended value, which is not what the question asks for. <br>\n",
    "\n",
    "Q59 - Advantages of open source software: Open-source software can be continually updated even without the original developers when it becomes public. <br>\n",
    "\n",
    "Q66 - Error in counting perfect numbers: Without removing Line 11, the program will not work as intended. <br>\n",
    "\n",
    "Q67 - Error in numOccurrences procedure: The procedure I chose does return the intended value, which is not what the question asks for. <br><br>\n",
    "\n",
    "**CPT Big Ideas** <br>\n",
    "Overall, I had a few struggles in Big Ideas 1 and 5, but most of my mistakes were from Big Idea 3 Programming and Algorithms. To fix this, I will research and study the actual syntax of code and how it works in order to understand it more conceptually. \n"
   ]
  },
  {
   "cell_type": "markdown",
   "metadata": {},
   "source": [
    "## Reflections\n",
    "**Self Reflection**\n",
    "Currently, I grade myself a .85. Though I have contributed towards the project, most of my contributions have been through the frontend design. The backend is more challenging for me to understand, however, I have observed that I have more knowledge on the backend than the start of the trimester. I have also noticed that my studying habits and my habits that have improved my studying skills have stemmed from this class due to the unique classroom elements of constant team work. I believe that presently demonstrating more teamwork than a usual class asks for is a sign to help prepare for college, in which there will be a lot more teamwork. I have developed basic levels of program understanding, however, I still have much to improve on. <br><br>\n",
    "- Strengths: <br>\n",
    "    1. Design capabilities\n",
    "    2. Organization\n",
    "    3. Brainstorming Ideas \n",
    "    <br>\n",
    "- Weaknesses: <br>\n",
    "    1. Understanding the code syntax\n",
    "    2. Grasping new concepts in the allocated time\n",
    "    3. Lack of communication skills \n",
    "    <br>\n",
    "To improve my weaknesses, I will first dedicate more of my time trying to understand the code and its purpose. To help with my overall grasp of concept, I will seek help from a tutor for my struggling understanding and if I require extra explanation above my individual understanding. Lastly, for my communication skills, I will continuously check up on my teammates to make sure we're on the same page and discuss important topics that all of the team needs to be level with, such as the concepts of deployment. To support my teammates, I will also try and improve my full-stack abilities so that I may be proficient in both the frontend and backend. <br><br>"
   ]
  }
 ],
 "metadata": {
  "language_info": {
   "name": "python"
  }
 },
 "nbformat": 4,
 "nbformat_minor": 2
}
