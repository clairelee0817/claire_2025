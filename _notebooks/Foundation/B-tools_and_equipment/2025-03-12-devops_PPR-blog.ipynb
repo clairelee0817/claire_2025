{
 "cells": [
  {
   "cell_type": "markdown",
   "metadata": {},
   "source": [
    "---\n",
    "layout: post\n",
    "title: PPR Blog\n",
    "permalink: /pprblog/\n",
    "---"
   ]
  },
  {
   "cell_type": "markdown",
   "metadata": {},
   "source": [
    "## PPR\n",
    "**What is PPR?** <br>\n",
    "PPR, or Personal Project Reference, is a portion on the AP Exam where students submit a personal code segment that meets CPT requirements, alongside their CPT video and program code file. The submission of the code segment in the PPR should be fully made by the student without collaboration (though it can be devloped with partners). <br><br>\n",
    "\n",
    "**PPR Requirements**\n",
    "In this class, students have the choice to submit their class project or an individual code segment. Either way, two types of code segments are required, and the requirements include: <br>\n",
    "1. Procedure <br> \n",
    "- Uses 1+ parameters that affect the functionality of the procedure <br>\n",
    "- Sequencing, selection, and iteration <br>\n",
    "This is a code segment I have that demonstrates this: <br>\n",
    "![Image](https://github.com/user-attachments/assets/2ae4eae7-1cfd-4117-bcd0-3e15551489bc)<br>\n",
    "Sequencing: The API request, JSON response, debugging measure, and the final result are all part of a sequence to allow the user to filter the ingredients. <br>\n",
    "Selection: After the JSON data is received, the algorithm selects ingredients by the user's filters. <br>\n",
    "Iteration: For the excluding feature to work, the algorithm iterates the data until there are no ingredients that match the excluded ingredients. <br><br>\n",
    "\n",
    "2. List <br>\n",
    "- How data is stored in the list <br>\n",
    "- How the same data stored is being used for the program's purpose. <br><br>\n",
    "![Image](https://github.com/user-attachments/assets/b2d5c95d-b8c7-4c5d-aed7-a9e45562cebe) <br>\n",
    "A list (array) is used in this segment to create HTML elements for the images. The ingredient data is assigned its own image and then added to the general list of the other ingredients that the user requests. <br><br>\n",
    "\n",
    "These segments must be submitted as images. After this submission, students must also be able to explain their code segment's function and purpose in the Written Response of the AP Exam (which will be in-person due to AI influences). <br>\n",
    "To prepare for the digital portfolio submission, our team has been developing our site to meet these CPT requirements."
   ]
  },
  {
   "cell_type": "markdown",
   "metadata": {
    "vscode": {
     "languageId": "plaintext"
    }
   },
   "source": [
    "<script src=\"https://utteranc.es/client.js\"\n",
    "        repo=\"clairelee0817/claire_2025\"\n",
    "        issue-term=\"pathname\"\n",
    "        theme=\"github-light\"\n",
    "        crossorigin=\"anonymous\"\n",
    "        async>\n",
    "</script>"
   ]
  },
  {
   "cell_type": "markdown",
   "metadata": {},
   "source": [
    "<script src=\"https://utteranc.es/client.js\"\n",
    "        repo=\"clairelee0817/claire_2025\"\n",
    "        issue-term=\"pathname\"\n",
    "        theme=\"github-light\"\n",
    "        crossorigin=\"anonymous\"\n",
    "        async>\n",
    "</script>"
   ]
  }
 ],
 "metadata": {
  "language_info": {
   "name": "python"
  }
 },
 "nbformat": 4,
 "nbformat_minor": 2
}
