{
 "cells": [
  {
   "cell_type": "markdown",
   "metadata": {},
   "source": [
    "---\n",
    "layout: post\n",
    "title: BI 5 Beneficial and Harmful Effects of Computing \n",
    "permalink: /beneficialandharmfuleffectsofcomputing/"
   ]
  },
  {
   "cell_type": "markdown",
   "metadata": {},
   "source": [
    "### Beneficial Effects\n",
    "1. Medical Advancements\n",
    "- data is all in one database and is easy to access\n",
    "2. Enhanced Business Efficiency\n",
    "- able to log their data and less margin of human error \n",
    "3. Artistic and Creative Expansion\n",
    "- AI can be used to create art\n",
    "4. Convenience and Efficiency**\n",
    "- example drone: fast delivery service, aerial photography\n",
    "\n",
    "### Harmful Effects\n",
    "1. Cyberbullying\n",
    "- harmful hackers can gain access and utilize personal information\n",
    "2. Dependency\n",
    "- humans relying on computing systems too much can lose critical thinking skills\n",
    "3. Loss of Privacy\n",
    "- celebrities'/famous figures' home lives can be more more compromised with the usage of technology\n",
    "\n",
    "\n",
    "### Self-Driving Cars\n",
    "**Beneficial Effects**\n",
    "- increased safety\n",
    "- traffic efficiency\n",
    "- accessibility \n",
    "- environmental benefits\n",
    "\n",
    "**Harmful Effects**\n",
    "- job displacement (e.g. Uber, Lyft)\n",
    "- security and privacy risks: though the chances are slim, hacking can still happen\n",
    "- ethical and legal challenges: how can accidents involving automated cars be dealt with?\n",
    "- infrastructure and economic costs\n",
    "\n",
    "**Finding Balance**\n",
    "- regulatory measures can be implemented to keep automatic usage in check\n",
    "\n",
    "\n",
    "### Unintended Consequences\n",
    "**Dopamine from Social Media**\n",
    "- beneficial: can provide motivation, reward, learning enhancement\n",
    "- harmful: high expectations online can cause addiction, depression, and other mental health issues"
   ]
  },
  {
   "cell_type": "markdown",
   "metadata": {},
   "source": [
    "## Popcorn Hack #1\n",
    "\n",
    "**How do technological innovations impact society in both positive and negative ways?** <br>\n",
    "Positive:\n",
    "- Data and overall information that would previously be difficult to store with manual effort are now able to be stored.\n",
    "- Important/sensitive information can be better protected with the help of databases, their easy accesibility, and strong security with authentication. <br>\n",
    "\n",
    "Negative:\n",
    "- Since most modern institutions such as hospitals and schools rely on an online computing system, it would be much more comprimising if a hacking incident were to occur, jeopardizing much more data than if manually stored. \n",
    "- Since computing systems such as AI are tasked to assess situations, most likely, it will lack the creativity and unique human collaboration that humans have when assessing situations. "
   ]
  },
  {
   "cell_type": "markdown",
   "metadata": {},
   "source": [
    "## Popcorn Hack #2\n",
    "\n",
    "**What is the meaning of the negative effects of technology and how we can use responsible programming to avoid and reduce these unintended harmful impacts?** <br>\n",
    "Negative effects of technology can be the overwhelming capabilities of computing systems; these systems could possibly take jobs away from people and increase unemployment rates, as well as create human dependency of these systems. To reduce these harmful impacts, there can be a balance between manual and technological strategies within all institutions and establishments that utilize this, only the manual parts can be as last resorts as to not slow down progress. "
   ]
  },
  {
   "cell_type": "markdown",
   "metadata": {},
   "source": [
    "## Popcorn Hack #3 \n",
    "\n",
    "**Why is it important to understand the unintended consequences of technology, especially dopamine-driven technology?** <br>\n",
    "Technology is a very impactful tool that is variously utilized, so it has a very powerful impact. Understanding the unintended consequences of technology that will inevitable rise will help us better tackle and understand the harmful impacts, such as addiction from dopamine-drive technology, as well as better utilize the beneficial impacts. "
   ]
  },
  {
   "cell_type": "markdown",
   "metadata": {},
   "source": [
    "## Homework Hack #1: Revisiting AI Uses\n",
    "\n",
    "**Task: AI is often used in new ways that weren’t planned. Your job is to think of a new way to use an AI invention.**<br>\n",
    "\n",
    "- AI Innovation: ChatGPT\n",
    "- Original Use: It's primary use is *content generation*, meaning that it will generate articles, provide relevant texts, etc. per the user's input. \n",
    "- New Use Case: Physical dictionaries could be replaced with ChatGPT's specifically for students/scholars to use. \n",
    "- Impact: There will no longer be a need to variously comb through different online sources for correct definitions or manual dictionaries. \n",
    "- Benefits – Searching for words will be much faster, and users can rely on a singular database instead of multiple.\n",
    "- Risks – ChatGPT is being refined constantly, so rarely, words may appear inaccurate/irrelevant to the user's input. \n",
    "\n"
   ]
  },
  {
   "cell_type": "markdown",
   "metadata": {},
   "source": [
    "## Homework Hack #2: Ethical AI Coding Challenge\n",
    "\n",
    "**Task: AI can cause problems if not designed well. Your job is to find a problem AI has caused and think of ways to fix it.**\n",
    "\n",
    "- Problem: Much of the public has been victim to fabricated news sources and images created by AI. \n",
    "- Risk: People unaware of AI's generation capability, especially older generations, are susceptible to online scams/phishers and false intake of global issues. \n",
    "- Solution 1: Implement educational programs to teach these people about the impact of modern AI to enhance their evaluation of the genuity of online sources.\n",
    "- Solution 2: Upgrade/increase authorization measures to add an insured layer of checking online sources, especially news sources. \n",
    "- Reflection: Most likely, AI will continue to evolve and expand its databases and overall capabilities, increasing risks of online security breaches by scammers/phishers. Instead of attempting to limit a tool that can also be utilized for beneficial societal growth, we can prep users and nonusers about the impacts of AI. "
   ]
  },
  {
   "cell_type": "markdown",
   "metadata": {},
   "source": [
    "## Homework Hack #3: AI & Unintended Consequences Research Task\n",
    "\n",
    "**Task: Many AI systems have unexpected effects on society. Your goal is to find and analyze a real-world AI example that led to unintended consequences.**\n",
    "\n",
    "- AI Example: Microsoft's Chatbot Tay \n",
    "- What Happened: In 2016, the Chatbot Tay was launched on Twitter to encourage \"conversational understanding\" between users while emulating the slang of a teenage girl, which was Microsoft's attempt to make Tay more humanlike. However, within hours of Tay's launch, online trolls took advantage of Tay's \"repeat after me\" function and manipulated Tay to tweet abusive and offensive messages, including anti-feminism and nazism.\n",
    "- Response: Due to exponentially rapid downfall of Tay's original purpose, Microsoft shut the Chatbot down shortly afterwards. It brought to question both the internet's inherent malice and Microsoft's programming skills. \n",
    "- Prevention: When creating programs specifically for social media, a notoriously negative platform, outside professionals of social media and internet pyschology should be consulted and provide potential outcomes of the launch. "
   ]
  }
 ],
 "metadata": {
  "language_info": {
   "name": "python"
  }
 },
 "nbformat": 4,
 "nbformat_minor": 2
}
